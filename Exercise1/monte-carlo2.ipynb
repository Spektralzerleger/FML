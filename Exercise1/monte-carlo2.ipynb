{
 "cells": [
  {
   "cell_type": "markdown",
   "metadata": {},
   "source": [
    "# 1 Monte Carlo Simulation\n",
    "## 1.2 Data Cration and Visualization"
   ]
  },
  {
   "cell_type": "code",
   "execution_count": 356,
   "metadata": {},
   "outputs": [],
   "source": [
    "import numpy as np\n",
    "import matplotlib.pyplot as plt"
   ]
  },
  {
   "cell_type": "code",
   "execution_count": 357,
   "metadata": {},
   "outputs": [],
   "source": [
    "def create_data(N):\n",
    "    # Create N uniformly distributed random numbers\n",
    "    U = np.random.rand(N)\n",
    "    \n",
    "    # Get the X variables with the respective distribution\n",
    "    X0 = 1 - np.sqrt(1-U)\n",
    "    X1 = np.sqrt(U)\n",
    "    \n",
    "    # Create N random numbers 0 or 1 with probability 0.5\n",
    "    Y = np.random.rand(N)\n",
    "    Y[Y < 0.5] = 0\n",
    "    Y[Y >= 0.5] = 1\n",
    "    \n",
    "    # Pick a random X0 when Y=0\n",
    "    # Pick a random X1 when Y=1\n",
    "    X = X0\n",
    "    X[Y == 1] = X1[Y == 1]\n",
    "\n",
    "    return [X, Y]"
   ]
  },
  {
   "cell_type": "code",
   "execution_count": 358,
   "metadata": {},
   "outputs": [],
   "source": [
    "#Define Threshold classifier A\n",
    "def thresh_class_A(x,t):\n",
    "    y=1\n",
    "    if x<t:\n",
    "        y=0\n",
    "    return y\n",
    "\n",
    "#Define Thresshold Classifier B\n",
    "def thresh_class_B(x,t):\n",
    "    y=1\n",
    "    if x >= t:\n",
    "        y=0\n",
    "    return y\n",
    "\n",
    "#Calculate Error of A and B for different thresholds and same Data set\n",
    "def calc_error(data_set,thresh):\n",
    "    #empty arrays to append results\n",
    "    error_res = np.array([[],[]])\n",
    "    \n",
    "    #run over different thresholds\n",
    "    for t in thresh:\n",
    "        error = np.array([[0],[0]])\n",
    "        \n",
    "        #run over all points of the dataset\n",
    "        for i in range(len(data_set[0])):\n",
    "            #check wether classifier A gives wrong result and count errors\n",
    "            if thresh_class_A(data_set[0][i],t) != data_set[1][i]:\n",
    "                error[0][0] += 1\n",
    "            #same for classifier B\n",
    "            if thresh_class_B(data_set[0][i],t) != data_set[1][i]:\n",
    "                error[1][0] += 1\n",
    "        \n",
    "        #append data\n",
    "        error_res = np.append(error_res,error,axis=1)\n",
    "    \n",
    "    #calculate probability and return data\n",
    "    return error_res/len(data_set[0])\n",
    "\n"
   ]
  },
  {
   "cell_type": "code",
   "execution_count": 359,
   "metadata": {},
   "outputs": [],
   "source": [
    "#analytic errorfunction of classifier A for different thresholds\n",
    "def calc_error_analytic_A(thresh):\n",
    "    error_ana = np.array([])\n",
    "    for t in thresh:\n",
    "        error_ana = np.append(error_ana,0.25+(t-0.5)**2)\n",
    "    return error_ana\n",
    "\n",
    "#same for classifier B\n",
    "def calc_error_analytic_B(thresh):\n",
    "    error_ana = np.array([])\n",
    "    for t in thresh:\n",
    "        error_ana = np.append(error_ana,0.75-(t-0.5)**2)\n",
    "    return error_ana"
   ]
  },
  {
   "cell_type": "code",
   "execution_count": 360,
   "metadata": {},
   "outputs": [],
   "source": [
    "#define threshold\n",
    "thresh = [0.2,0.5,0.6]"
   ]
  },
  {
   "cell_type": "code",
   "execution_count": 361,
   "metadata": {},
   "outputs": [],
   "source": [
    "#define size of dataset\n",
    "M = [10,100,1000,10000]\n",
    "\n",
    "#arrays to store result\n",
    "error_res_A = np.zeros((len(M),len(thresh),10))\n",
    "error_res_B = np.zeros((len(M),len(thresh),10))\n",
    "\n",
    "#run over all dataset sizes\n",
    "for i in range(len(M)):\n",
    "    error_res10_A = np.zeros((10,len(thresh)))\n",
    "    error_res10_B = np.zeros((10,len(thresh)))\n",
    "    \n",
    "    #run over all thresholds\n",
    "    for j in range(10):\n",
    "        #calculate corresponding error probability\n",
    "        error_res10_A[j]=calc_error(create_data(M[i]),thresh)[0]\n",
    "        error_res10_B[j]=calc_error(create_data(M[i]),thresh)[1]\n",
    "    \n",
    "    #write in an array\n",
    "    error_res_A[i] = error_res10_A.T\n",
    "    error_res_B[i] = error_res10_B.T\n",
    "\n"
   ]
  },
  {
   "cell_type": "code",
   "execution_count": 363,
   "metadata": {},
   "outputs": [],
   "source": [
    "#Calculate Mean value and standard deviation\n",
    "\n",
    "mean_std_A = np.zeros((len(M),len(thresh),2))\n",
    "mean_std_B = np.zeros((len(M),len(thresh),2))\n",
    "\n",
    "#run overall dataset sizes\n",
    "for i in range(len(M)):\n",
    "    #run over all threshholds\n",
    "    for j in range(len(thresh)):\n",
    "        #calculate mean and standard deviation\n",
    "        mean_std_A[i,j] = np.array([np.mean(error_res_A[i,j]),np.std(error_res_A[i,j])])*100\n",
    "        mean_std_B[i,j] = np.array([np.mean(error_res_B[i,j]),np.std(error_res_B[i,j])])*100\n"
   ]
  },
  {
   "cell_type": "markdown",
   "metadata": {},
   "source": [
    "So far we calculated the error probability of 4 different dataset sizes (10,100,1000,10000) for three different thresholds (0.2,0.5,0.6). We stored the corresponing mean value and standard deviation for 10 different datasets. In the following two graphs we plot the mean value with its standard deviation as errorbar against the size of the dataset.\n",
    "\n",
    "We see espacially for larger datasets (M>100) that the red classifier with threshold $x_t=0.5$ has the lowest error probability. It converges to $p=25 \\%$.\n",
    "\n",
    "Also the other thresholds $x_t=0.6$ and $x_t=0.2$ converge to its corresponding analytical value $p=34 \\%$ and $p=26 \\%$."
   ]
  },
  {
   "cell_type": "code",
   "execution_count": 369,
   "metadata": {},
   "outputs": [
    {
     "name": "stdout",
     "output_type": "stream",
     "text": [
      "Analytical probability error for x_t=[0.2,0.5,0.6]: [0.34 0.25 0.26]\n"
     ]
    },
    {
     "data": {
      "text/plain": [
       "<matplotlib.legend.Legend at 0x1f727d86ca0>"
      ]
     },
     "execution_count": 369,
     "metadata": {},
     "output_type": "execute_result"
    },
    {
     "data": {
      "image/png": "[encoded data removed]",
      "text/plain": [
       "<Figure size 432x288 with 1 Axes>"
      ]
     },
     "metadata": {
      "needs_background": "light"
     },
     "output_type": "display_data"
    }
   ],
   "source": [
    "print(\"Analytical probability error for x_t=[0.2,0.5,0.6]:\",calc_error_analytic_A(thresh))\n",
    "\n",
    "#plot the Error probability of different threshold parameters against the dataset size\n",
    "plt.errorbar(M,mean_std_A[:,0,0],yerr=mean_std_A[:,0,1],fmt=\".\",color=\"g\",elinewidth=1, capsize=2, capthick=1, markersize=5)\n",
    "plt.errorbar(M,mean_std_A[:,1,0],yerr=mean_std_A[:,1,1],fmt=\".\",color=\"r\",elinewidth=1, capsize=2, capthick=1, markersize=5)\n",
    "plt.errorbar(M,mean_std_A[:,2,0],yerr=mean_std_A[:,2,1],fmt=\".\",color=\"b\",elinewidth=1, capsize=2, capthick=1, markersize=5)\n",
    "\n",
    "#analytical result\n",
    "plt.plot([10,10000],[34,34],\"--\",color=\"g\", label=\"analytical value $x_t = 0.2$\")\n",
    "plt.plot([10,10000],[25,25],\"--\",color=\"r\", label=\"analytical value $x_t = 0.5$\")\n",
    "plt.plot([10,10000],[26,26],\"--\",color=\"b\", label=\"analytical value $x_t = 0.6$\")\n",
    "\n",
    "plt.xscale(\"log\")\n",
    "plt.ylabel(\"error probability [%]\")\n",
    "plt.xlabel(\"Size of Dataset\")\n",
    "plt.title(\"error probability of Classifier A\")\n",
    "plt.legend()"
   ]
  },
  {
   "cell_type": "markdown",
   "metadata": {},
   "source": [
    "Also for Classifier B the three thresholds converge to its analytical value."
   ]
  },
  {
   "cell_type": "code",
   "execution_count": 371,
   "metadata": {},
   "outputs": [
    {
     "data": {
      "text/plain": [
       "<matplotlib.legend.Legend at 0x1f727e06c40>"
      ]
     },
     "execution_count": 371,
     "metadata": {},
     "output_type": "execute_result"
    },
    {
     "data": {
      "image/png": "[encoded data removed]",
      "text/plain": [
       "<Figure size 432x288 with 1 Axes>"
      ]
     },
     "metadata": {
      "needs_background": "light"
     },
     "output_type": "display_data"
    }
   ],
   "source": [
    "plt.errorbar(M,mean_std_B[:,0,0],yerr=mean_std_B[:,0,1],fmt=\".\",color=\"g\",elinewidth=1, capsize=2, capthick=1, markersize=5)\n",
    "plt.errorbar(M,mean_std_B[:,1,0],yerr=mean_std_B[:,1,1],fmt=\".\",color=\"r\",elinewidth=1, capsize=2, capthick=1, markersize=5)\n",
    "plt.errorbar(M,mean_std_B[:,2,0],yerr=mean_std_B[:,2,1],fmt=\".\",color=\"b\",elinewidth=1, capsize=2, capthick=1, markersize=5)\n",
    "plt.plot([10,10000],[66,66],\"--\",color=\"g\", label=\"analytical value $x_t = 0.2$\")\n",
    "plt.plot([10,10000],[75,75],\"--\",color=\"r\", label=\"analytical value $x_t = 0.5$\")\n",
    "plt.plot([10,10000],[74,74],\"--\",color=\"b\", label=\"analytical value $x_t = 0.6$\")\n",
    "plt.xscale(\"log\")\n",
    "plt.ylabel(\"error probability [%]\")\n",
    "plt.xlabel(\"Size of Dataset\")\n",
    "plt.title(\"error probability of Classifier B\")\n",
    "plt.legend()"
   ]
  },
  {
   "cell_type": "markdown",
   "metadata": {},
   "source": [
    "The standard deviation decreases with the Dataset size exponentially because we ccould easily fit an exponential decay through the received data."
   ]
  },
  {
   "cell_type": "code",
   "execution_count": 375,
   "metadata": {},
   "outputs": [
    {
     "data": {
      "text/plain": [
       "Text(0, 0.5, 'Standard deviation [%]')"
      ]
     },
     "execution_count": 375,
     "metadata": {},
     "output_type": "execute_result"
    },
    {
     "data": {
      "image/png": "[encoded data removed]",
      "text/plain": [
       "<Figure size 432x288 with 1 Axes>"
      ]
     },
     "metadata": {
      "needs_background": "light"
     },
     "output_type": "display_data"
    }
   ],
   "source": [
    "#plot the standard deviation for different sizes of the dataset\n",
    "\n",
    "plt.plot(M,mean_std_A[:,0,1],\".\")\n",
    "plt.plot(M,mean_std_A[:,1,1],\".\")\n",
    "plt.plot(M,mean_std_A[:,2,1],\".\")\n",
    "plt.plot(M,mean_std_B[:,0,1],\".\")\n",
    "plt.plot(M,mean_std_B[:,1,1],\".\")\n",
    "plt.plot(M,mean_std_B[:,2,1],\".\")\n",
    "plt.yscale(\"log\")\n",
    "plt.xscale(\"log\")\n",
    "plt.title(\"Standard deviation for different datasets\")\n",
    "plt.xlabel(\"Size of the dataset\")\n",
    "plt.ylabel(\"Standard deviation [%]\")"
   ]
  }
 ],
 "metadata": {
  "kernelspec": {
   "display_name": "Python 3",
   "language": "python",
   "name": "python3"
  },
  "language_info": {
   "codemirror_mode": {
    "name": "ipython",
    "version": 3
   },
   "file_extension": ".py",
   "mimetype": "text/x-python",
   "name": "python",
   "nbconvert_exporter": "python",
   "pygments_lexer": "ipython3",
   "version": "3.8.5"
  }
 },
 "nbformat": 4,
 "nbformat_minor": 4
}
