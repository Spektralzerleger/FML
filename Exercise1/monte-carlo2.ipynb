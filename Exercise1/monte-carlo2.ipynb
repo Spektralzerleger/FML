{
 "cells": [
  {
   "cell_type": "markdown",
   "metadata": {},
   "source": [
    "# 1 Monte Carlo Simulation\n",
    "## 1.2 Data Cration and Visualization"
   ]
  },
  {
   "cell_type": "code",
   "execution_count": 326,
   "metadata": {},
   "outputs": [],
   "source": [
    "import numpy as np\n",
    "import matplotlib.pyplot as plt"
   ]
  },
  {
   "cell_type": "code",
   "execution_count": 327,
   "metadata": {},
   "outputs": [],
   "source": [
    "def create_data(N):\n",
    "    # Create N uniformly distributed random numbers\n",
    "    U = np.random.rand(N)\n",
    "    \n",
    "    # Get the X variables with the respective distribution\n",
    "    X0 = 1 - np.sqrt(1-U)\n",
    "    X1 = np.sqrt(U)\n",
    "    \n",
    "    # Create N random numbers 0 or 1 with probability 0.5\n",
    "    Y = np.random.rand(N)\n",
    "    Y[Y < 0.5] = 0\n",
    "    Y[Y >= 0.5] = 1\n",
    "    \n",
    "    # Pick a random X0 when Y=0\n",
    "    # Pick a random X1 when Y=1\n",
    "    X = X0\n",
    "    X[Y == 1] = X1[Y == 1]\n",
    "\n",
    "    return [X, Y]"
   ]
  },
  {
   "cell_type": "code",
   "execution_count": 328,
   "metadata": {},
   "outputs": [],
   "source": [
    "#Define Threshold classifier A\n",
    "def thresh_class_A(x,t):\n",
    "    y=1\n",
    "    if x<t:\n",
    "        y=0\n",
    "    return y\n",
    "\n",
    "#Define Thresshold Classifier B\n",
    "def thresh_class_B(x,t):\n",
    "    y=1\n",
    "    if x >= t:\n",
    "        y=0\n",
    "    return y\n",
    "\n",
    "#Calculate Error of A and B for different thresholds and same Data set\n",
    "def calc_error(data_set,thresh):\n",
    "    error_res=np.array([[],[]])\n",
    "    for t in thresh:\n",
    "        error = np.array([[0],[0]])\n",
    "        for i in range(len(data_set[0])):\n",
    "            if thresh_class_A(data_set[0][i],t) != data_set[1][i]:\n",
    "                error[0][0] += 1\n",
    "            if thresh_class_B(data_set[0][i],t) != data_set[1][i]:\n",
    "                error[1][0] += 1\n",
    "        error_res = np.append(error_res,error,axis=1)\n",
    "    return error_res/len(data_set[0])"
   ]
  },
  {
   "cell_type": "code",
   "execution_count": 329,
   "metadata": {},
   "outputs": [],
   "source": [
    "#analytical errorfunction for different thresholds and calssifier A and B\n",
    "def calc_error_analytic_A(thresh):\n",
    "    error_ana = np.array([])\n",
    "    for t in thresh:\n",
    "        error_ana = np.append(error_ana,0.25+(t-0.5)**2)\n",
    "    return error_ana\n",
    "\n",
    "def calc_error_analytic_B(thresh):\n",
    "    error_ana = np.array([])\n",
    "    for t in thresh:\n",
    "        error_ana = np.append(error_ana,0.75-(t-0.5)**2)\n",
    "    return error_ana"
   ]
  },
  {
   "cell_type": "code",
   "execution_count": 330,
   "metadata": {},
   "outputs": [],
   "source": [
    "thresh = [0.2,0.5,0.6]"
   ]
  },
  {
   "cell_type": "code",
   "execution_count": 331,
   "metadata": {},
   "outputs": [
    {
     "name": "stdout",
     "output_type": "stream",
     "text": [
      "[[[0.4    0.3    0.     0.4    0.5    0.4    0.1    0.3    0.1    0.2   ]\n",
      "  [0.2    0.2    0.2    0.1    0.1    0.5    0.2    0.3    0.1    0.3   ]\n",
      "  [0.2    0.2    0.2    0.1    0.2    0.6    0.2    0.3    0.1    0.3   ]]\n",
      "\n",
      " [[0.33   0.36   0.39   0.39   0.27   0.3    0.3    0.36   0.45   0.31  ]\n",
      "  [0.22   0.27   0.25   0.31   0.17   0.24   0.26   0.24   0.24   0.23  ]\n",
      "  [0.21   0.33   0.29   0.26   0.24   0.21   0.36   0.29   0.16   0.27  ]]\n",
      "\n",
      " [[0.348  0.356  0.337  0.395  0.338  0.328  0.359  0.345  0.362  0.338 ]\n",
      "  [0.272  0.228  0.251  0.269  0.244  0.251  0.269  0.227  0.257  0.26  ]\n",
      "  [0.275  0.238  0.258  0.265  0.254  0.27   0.267  0.244  0.259  0.274 ]]\n",
      "\n",
      " [[0.3435 0.3461 0.3405 0.3476 0.3449 0.3464 0.3332 0.337  0.3501 0.3463]\n",
      "  [0.2577 0.2674 0.25   0.2466 0.2505 0.2555 0.2507 0.2441 0.2596 0.2448]\n",
      "  [0.2653 0.2699 0.2595 0.2516 0.2616 0.2644 0.2619 0.2553 0.2672 0.2516]]]\n",
      "[[[0.5    0.7    0.9    0.5    0.5    0.7    0.7    0.5    0.9    0.5   ]\n",
      "  [0.7    0.7    0.6    0.8    0.7    1.     0.8    0.9    0.9    0.9   ]\n",
      "  [0.7    0.6    0.6    0.8    0.7    1.     0.7    0.8    0.7    0.8   ]]\n",
      "\n",
      " [[0.71   0.65   0.59   0.62   0.64   0.65   0.64   0.72   0.62   0.49  ]\n",
      "  [0.84   0.72   0.69   0.72   0.75   0.79   0.79   0.81   0.72   0.77  ]\n",
      "  [0.8    0.73   0.71   0.75   0.72   0.77   0.79   0.77   0.72   0.74  ]]\n",
      "\n",
      " [[0.668  0.659  0.642  0.662  0.703  0.651  0.68   0.661  0.662  0.65  ]\n",
      "  [0.752  0.744  0.745  0.757  0.76   0.752  0.753  0.761  0.736  0.737 ]\n",
      "  [0.741  0.738  0.746  0.738  0.74   0.749  0.728  0.753  0.729  0.722 ]]\n",
      "\n",
      " [[0.6689 0.6565 0.6649 0.6622 0.6618 0.6543 0.6516 0.6731 0.6574 0.6638]\n",
      "  [0.7549 0.7419 0.7488 0.7508 0.751  0.7507 0.7535 0.7625 0.7484 0.758 ]\n",
      "  [0.7395 0.7343 0.7392 0.7431 0.7365 0.7407 0.7428 0.7472 0.7386 0.7456]]]\n"
     ]
    }
   ],
   "source": [
    "M = [10,100,1000,10000]\n",
    "error_res_A = np.zeros((len(M),len(thresh),10))\n",
    "error_res_B = np.zeros((len(M),len(thresh),10))\n",
    "\n",
    "for i in range(len(M)):\n",
    "    error_res10_A = np.zeros((10,len(thresh)))\n",
    "    error_res10_B = np.zeros((10,len(thresh)))\n",
    "    for j in range(10):\n",
    "        error_res10_A[j]=calc_error(create_data(M[i]),thresh)[0]\n",
    "        error_res10_B[j]=calc_error(create_data(M[i]),thresh)[1]\n",
    "    error_res_A[i] = error_res10_A.T\n",
    "    error_res_B[i] = error_res10_B.T\n",
    "print(error_res_A)\n",
    "print(error_res_B)"
   ]
  },
  {
   "cell_type": "code",
   "execution_count": 332,
   "metadata": {},
   "outputs": [],
   "source": [
    "mean_std_A = np.zeros((len(M),len(thresh),2))\n",
    "mean_std_B = np.zeros((len(M),len(thresh),2))\n",
    "for i in range(len(M)):\n",
    "    for j in range(len(thresh)):\n",
    "        mean_std_A[i,j] = [np.mean(error_res_A[i,j]),np.std(error_res_A[i,j])]\n",
    "        mean_std_B[i,j] = [np.mean(error_res_B[i,j]),np.std(error_res_B[i,j])]\n"
   ]
  },
  {
   "cell_type": "code",
   "execution_count": 333,
   "metadata": {},
   "outputs": [
    {
     "name": "stdout",
     "output_type": "stream",
     "text": [
      "[0.34 0.25 0.26]\n"
     ]
    },
    {
     "data": {
      "image/png": "[encoded data removed]",
      "text/plain": [
       "<Figure size 432x288 with 1 Axes>"
      ]
     },
     "metadata": {
      "needs_background": "light"
     },
     "output_type": "display_data"
    }
   ],
   "source": [
    "print(calc_error_analytic_A(thresh))\n",
    "\n",
    "plt.errorbar(M,mean_std_A[:,0,0],yerr=mean_std_A[:,0,1],fmt=\".\",color=\"g\",elinewidth=1, capsize=2, capthick=1, markersize=5)\n",
    "plt.errorbar(M,mean_std_A[:,1,0],yerr=mean_std_A[:,1,1],fmt=\".\",color=\"r\",elinewidth=1, capsize=2, capthick=1, markersize=5)\n",
    "plt.errorbar(M,mean_std_A[:,2,0],yerr=mean_std_A[:,2,1],fmt=\".\",color=\"b\",elinewidth=1, capsize=2, capthick=1, markersize=5)\n",
    "plt.plot([10,10000],[0.34,0.34],\"--\",color=\"g\")\n",
    "plt.plot([10,10000],[0.25,0.25],\"--\",color=\"r\")\n",
    "plt.plot([10,10000],[0.26,0.26],\"--\",color=\"b\")\n",
    "plt.xscale(\"log\")"
   ]
  },
  {
   "cell_type": "code",
   "execution_count": 336,
   "metadata": {},
   "outputs": [
    {
     "name": "stdout",
     "output_type": "stream",
     "text": [
      "[0.66 0.75 0.74]\n"
     ]
    },
    {
     "data": {
      "image/png": "[encoded data removed]",
      "text/plain": [
       "<Figure size 432x288 with 1 Axes>"
      ]
     },
     "metadata": {
      "needs_background": "light"
     },
     "output_type": "display_data"
    }
   ],
   "source": [
    "print(calc_error_analytic_B(thresh))\n",
    "\n",
    "plt.errorbar(M,mean_std_B[:,0,0],yerr=mean_std_B[:,0,1],fmt=\".\",color=\"g\",elinewidth=1, capsize=2, capthick=1, markersize=5)\n",
    "plt.errorbar(M,mean_std_B[:,1,0],yerr=mean_std_B[:,1,1],fmt=\".\",color=\"r\",elinewidth=1, capsize=2, capthick=1, markersize=5)\n",
    "plt.errorbar(M,mean_std_B[:,2,0],yerr=mean_std_B[:,2,1],fmt=\".\",color=\"b\",elinewidth=1, capsize=2, capthick=1, markersize=5)\n",
    "plt.plot([10,10000],[0.66,0.66],\"--\",color=\"g\")\n",
    "plt.plot([10,10000],[0.75,0.75],\"--\",color=\"r\")\n",
    "plt.plot([10,10000],[0.74,0.74],\"--\",color=\"b\")\n",
    "plt.xscale(\"log\")"
   ]
  },
  {
   "cell_type": "code",
   "execution_count": null,
   "metadata": {},
   "outputs": [],
   "source": []
  },
  {
   "cell_type": "code",
   "execution_count": null,
   "metadata": {},
   "outputs": [],
   "source": []
  }
 ],
 "metadata": {
  "kernelspec": {
   "display_name": "Python 3",
   "language": "python",
   "name": "python3"
  },
  "language_info": {
   "codemirror_mode": {
    "name": "ipython",
    "version": 3
   },
   "file_extension": ".py",
   "mimetype": "text/x-python",
   "name": "python",
   "nbconvert_exporter": "python",
   "pygments_lexer": "ipython3",
   "version": "3.8.5"
  }
 },
 "nbformat": 4,
 "nbformat_minor": 4
}
