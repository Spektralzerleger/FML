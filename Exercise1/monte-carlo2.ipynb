{
 "cells": [
  {
   "cell_type": "markdown",
   "metadata": {},
   "source": [
    "# 1 Monte Carlo Simulation\n",
    "## 1.2 Data Cration and Visualization"
   ]
  },
  {
   "cell_type": "code",
   "execution_count": 60,
   "metadata": {},
   "outputs": [],
   "source": [
    "import numpy as np\n",
    "import matplotlib"
   ]
  },
  {
   "cell_type": "code",
   "execution_count": 61,
   "metadata": {},
   "outputs": [],
   "source": [
    "def create_data(N):\n",
    "    # Create N uniformly distributed random numbers\n",
    "    U = np.random.rand(N)\n",
    "    \n",
    "    # Get the X variables with the respective distribution\n",
    "    X0 = 1 - np.sqrt(1-U)\n",
    "    X1 = np.sqrt(U)\n",
    "    \n",
    "    # Create N random numbers 0 or 1 with probability 0.5\n",
    "    Y = np.random.rand(N)\n",
    "    Y[Y < 0.5] = 0\n",
    "    Y[Y >= 0.5] = 1\n",
    "    \n",
    "    # Pick a random X0 when Y=0\n",
    "    # Pick a random X1 when Y=1\n",
    "    X = X0\n",
    "    X[Y == 1] = X1[Y == 1]\n",
    "\n",
    "    return [X, Y]"
   ]
  },
  {
   "cell_type": "code",
   "execution_count": 62,
   "metadata": {},
   "outputs": [],
   "source": [
    "def tresh_class_A(x,t):\n",
    "    y=1\n",
    "    if x<t:\n",
    "        y=0\n",
    "    return y\n",
    "\n",
    "def tresh_class_B(x,t):\n",
    "    y=1\n",
    "    if x >= t:\n",
    "        y=0\n",
    "    return y\n",
    "\n",
    "def calc_error(data_set):\n",
    "    error_res = np.array([])\n",
    "    for t in [0.2,0.5,0.6]:\n",
    "        error = 0\n",
    "        for i in range(len(data_set[0])):\n",
    "            if tresh_class_A(data_set[0][i],t) != data_set[1][i]:\n",
    "                error += 1\n",
    "        error_res = np.append(error_res,error)\n",
    "    return error_res/len(data_set[0])"
   ]
  },
  {
   "cell_type": "code",
   "execution_count": 65,
   "metadata": {},
   "outputs": [],
   "source": [
    "def calc_error_analytic_A():\n",
    "    error_ana = np.array([])\n",
    "    for t in [0.2,0.5,0.6]:\n",
    "        error_ana = np.append(error_ana,0.25+(t-0.5)**2)\n",
    "    return error_ana\n",
    "\n",
    "def calc_error_analytic_B():\n",
    "    error_ana = np.array([])\n",
    "    for t in [0.2,0.5,0.6]:\n",
    "        error_ana = np.append(error_ana,0.75-(t-0.5)**2)\n",
    "    return error_ana"
   ]
  },
  {
   "cell_type": "code",
   "execution_count": 66,
   "metadata": {},
   "outputs": [
    {
     "name": "stdout",
     "output_type": "stream",
     "text": [
      "[0.3324 0.2476 0.2594]\n",
      "[0.34 0.25 0.26]\n"
     ]
    }
   ],
   "source": [
    "print(calc_error(create_data(10000)))\n",
    "print(calc_error_analytic_A())"
   ]
  },
  {
   "cell_type": "code",
   "execution_count": null,
   "metadata": {},
   "outputs": [],
   "source": []
  }
 ],
 "metadata": {
  "kernelspec": {
   "display_name": "Python 3",
   "language": "python",
   "name": "python3"
  },
  "language_info": {
   "codemirror_mode": {
    "name": "ipython",
    "version": 3
   },
   "file_extension": ".py",
   "mimetype": "text/x-python",
   "name": "python",
   "nbconvert_exporter": "python",
   "pygments_lexer": "ipython3",
   "version": "3.8.5"
  }
 },
 "nbformat": 4,
 "nbformat_minor": 4
}
