{
 "cells": [
  {
   "cell_type": "markdown",
   "metadata": {
    "id": "hiONguG0B4TP"
   },
   "source": [
    "# Exercise 4a"
   ]
  },
  {
   "cell_type": "markdown",
   "metadata": {
    "id": "X-X_wTqyB-qt"
   },
   "source": [
    "Group Members: Luis Pazos Clemens, Robert Freund, Eugen Dizer\n",
    "\n",
    "Deadline: 12.01.2021, 16:00."
   ]
  },
  {
   "cell_type": "code",
   "execution_count": 1,
   "metadata": {
    "id": "PYHdBugYBxtX"
   },
   "outputs": [],
   "source": [
    "#Load standard libraries\n",
    "import numpy as np   \n",
    "import matplotlib.pyplot as plt   \n",
    "%matplotlib inline\n",
    "\n",
    "import pandas as pd\n",
    "import os"
   ]
  },
  {
   "cell_type": "markdown",
   "metadata": {
    "id": "HxBcnYsc8ZGv"
   },
   "source": [
    "## 2 Red Cards Study"
   ]
  },
  {
   "cell_type": "markdown",
   "metadata": {
    "id": "dgigekWvCUer"
   },
   "source": [
    "Download the dataset from https://osf.io/gvm2z/ (`1. Crowdsourcing Dataset July 01, 2014 Incl.Ref Country.zip` contains the dataset, `README.txt` a detailed description of the data and `2._Crowdstorming_Pictures_Skin_Color_Ratings.zip` the images of the players). Feel free to look at `Crowdsourcing Analytics - Final Manuscript.pdf` for a more detailed description of the experiment, its features, and the different methods participants applied to tackle the question."
   ]
  },
  {
   "cell_type": "markdown",
   "metadata": {
    "id": "uYCLJCaCCp3u"
   },
   "source": [
    "### 2.1 Loading and Cleaning the Data"
   ]
  },
  {
   "cell_type": "markdown",
   "metadata": {
    "id": "-nPq0UYBKqGI"
   },
   "source": [
    "The first step consists of loading the `.csv` file and preparing the data for the experiment. One participant of the official experiment provided a nice jupyter notebook demonstrating how the python library\n",
    "`pandas` can be utilized to achieve this: http://nbviewer.ipython.org/github/mathewzilla/redcard/blob/master/Crowdstorming_visualisation.ipynb. You should get inspiration from this example, but still choose your own data preparation steps."
   ]
  },
  {
   "cell_type": "code",
   "execution_count": 2,
   "metadata": {
    "colab": {
     "base_uri": "https://localhost:8080/",
     "height": 490
    },
    "id": "HzPyx-lkB5Rj",
    "outputId": "590a6809-1b27-4e4b-91f7-487e8858e34c"
   },
   "outputs": [],
   "source": [
    "# Import original data and get it in displayable form.\n",
    "file = os.path.join('data','CrowdstormingDataJuly1st.csv') \n",
    "df = pd.read_csv(file)"
   ]
  },
  {
   "cell_type": "markdown",
   "metadata": {
    "id": "xAvD1qKVFDwF"
   },
   "source": [
    "By default the data is in a rather counter-intuitive format: referee-player dyads.\n",
    "\n",
    "A referee-player dyad describes the interactions between a particular ref and one player. This means that each row in the dataset is of a unique player-ref combination, listing all of the games by a given player with a particular referee at any point in his career. Let's look at the first few rows of the dataset as an example:"
   ]
  },
  {
   "cell_type": "code",
   "execution_count": 3,
   "metadata": {
    "id": "3Y7hRkisEjDR"
   },
   "outputs": [
    {
     "data": {
      "text/html": [
       "<div>\n",
       "<style scoped>\n",
       "    .dataframe tbody tr th:only-of-type {\n",
       "        vertical-align: middle;\n",
       "    }\n",
       "\n",
       "    .dataframe tbody tr th {\n",
       "        vertical-align: top;\n",
       "    }\n",
       "\n",
       "    .dataframe thead th {\n",
       "        text-align: right;\n",
       "    }\n",
       "</style>\n",
       "<table border=\"1\" class=\"dataframe\">\n",
       "  <thead>\n",
       "    <tr style=\"text-align: right;\">\n",
       "      <th></th>\n",
       "      <th>playerShort</th>\n",
       "      <th>player</th>\n",
       "      <th>club</th>\n",
       "      <th>leagueCountry</th>\n",
       "      <th>birthday</th>\n",
       "      <th>height</th>\n",
       "      <th>weight</th>\n",
       "      <th>position</th>\n",
       "      <th>games</th>\n",
       "      <th>victories</th>\n",
       "      <th>ties</th>\n",
       "      <th>defeats</th>\n",
       "      <th>goals</th>\n",
       "    </tr>\n",
       "  </thead>\n",
       "  <tbody>\n",
       "    <tr>\n",
       "      <th>0</th>\n",
       "      <td>lucas-wilchez</td>\n",
       "      <td>Lucas Wilchez</td>\n",
       "      <td>Real Zaragoza</td>\n",
       "      <td>Spain</td>\n",
       "      <td>31.08.1983</td>\n",
       "      <td>177.0</td>\n",
       "      <td>72.0</td>\n",
       "      <td>Attacking Midfielder</td>\n",
       "      <td>1</td>\n",
       "      <td>0</td>\n",
       "      <td>0</td>\n",
       "      <td>1</td>\n",
       "      <td>0</td>\n",
       "    </tr>\n",
       "    <tr>\n",
       "      <th>1</th>\n",
       "      <td>john-utaka</td>\n",
       "      <td>John Utaka</td>\n",
       "      <td>Montpellier HSC</td>\n",
       "      <td>France</td>\n",
       "      <td>08.01.1982</td>\n",
       "      <td>179.0</td>\n",
       "      <td>82.0</td>\n",
       "      <td>Right Winger</td>\n",
       "      <td>1</td>\n",
       "      <td>0</td>\n",
       "      <td>0</td>\n",
       "      <td>1</td>\n",
       "      <td>0</td>\n",
       "    </tr>\n",
       "    <tr>\n",
       "      <th>2</th>\n",
       "      <td>abdon-prats</td>\n",
       "      <td>Abdón Prats</td>\n",
       "      <td>RCD Mallorca</td>\n",
       "      <td>Spain</td>\n",
       "      <td>17.12.1992</td>\n",
       "      <td>181.0</td>\n",
       "      <td>79.0</td>\n",
       "      <td>NaN</td>\n",
       "      <td>1</td>\n",
       "      <td>0</td>\n",
       "      <td>1</td>\n",
       "      <td>0</td>\n",
       "      <td>0</td>\n",
       "    </tr>\n",
       "    <tr>\n",
       "      <th>3</th>\n",
       "      <td>pablo-mari</td>\n",
       "      <td>Pablo Marí</td>\n",
       "      <td>RCD Mallorca</td>\n",
       "      <td>Spain</td>\n",
       "      <td>31.08.1993</td>\n",
       "      <td>191.0</td>\n",
       "      <td>87.0</td>\n",
       "      <td>Center Back</td>\n",
       "      <td>1</td>\n",
       "      <td>1</td>\n",
       "      <td>0</td>\n",
       "      <td>0</td>\n",
       "      <td>0</td>\n",
       "    </tr>\n",
       "    <tr>\n",
       "      <th>4</th>\n",
       "      <td>ruben-pena</td>\n",
       "      <td>Rubén Peña</td>\n",
       "      <td>Real Valladolid</td>\n",
       "      <td>Spain</td>\n",
       "      <td>18.07.1991</td>\n",
       "      <td>172.0</td>\n",
       "      <td>70.0</td>\n",
       "      <td>Right Midfielder</td>\n",
       "      <td>1</td>\n",
       "      <td>1</td>\n",
       "      <td>0</td>\n",
       "      <td>0</td>\n",
       "      <td>0</td>\n",
       "    </tr>\n",
       "    <tr>\n",
       "      <th>5</th>\n",
       "      <td>aaron-hughes</td>\n",
       "      <td>Aaron Hughes</td>\n",
       "      <td>Fulham FC</td>\n",
       "      <td>England</td>\n",
       "      <td>08.11.1979</td>\n",
       "      <td>182.0</td>\n",
       "      <td>71.0</td>\n",
       "      <td>Center Back</td>\n",
       "      <td>1</td>\n",
       "      <td>0</td>\n",
       "      <td>0</td>\n",
       "      <td>1</td>\n",
       "      <td>0</td>\n",
       "    </tr>\n",
       "    <tr>\n",
       "      <th>6</th>\n",
       "      <td>aleksandar-kolarov</td>\n",
       "      <td>Aleksandar Kolarov</td>\n",
       "      <td>Manchester City</td>\n",
       "      <td>England</td>\n",
       "      <td>10.11.1985</td>\n",
       "      <td>187.0</td>\n",
       "      <td>80.0</td>\n",
       "      <td>Left Fullback</td>\n",
       "      <td>1</td>\n",
       "      <td>1</td>\n",
       "      <td>0</td>\n",
       "      <td>0</td>\n",
       "      <td>0</td>\n",
       "    </tr>\n",
       "    <tr>\n",
       "      <th>7</th>\n",
       "      <td>alexander-tettey</td>\n",
       "      <td>Alexander Tettey</td>\n",
       "      <td>Norwich City</td>\n",
       "      <td>England</td>\n",
       "      <td>04.04.1986</td>\n",
       "      <td>180.0</td>\n",
       "      <td>68.0</td>\n",
       "      <td>Defensive Midfielder</td>\n",
       "      <td>1</td>\n",
       "      <td>0</td>\n",
       "      <td>0</td>\n",
       "      <td>1</td>\n",
       "      <td>0</td>\n",
       "    </tr>\n",
       "    <tr>\n",
       "      <th>8</th>\n",
       "      <td>anders-lindegaard</td>\n",
       "      <td>Anders Lindegaard</td>\n",
       "      <td>Manchester United</td>\n",
       "      <td>England</td>\n",
       "      <td>13.04.1984</td>\n",
       "      <td>193.0</td>\n",
       "      <td>80.0</td>\n",
       "      <td>Goalkeeper</td>\n",
       "      <td>1</td>\n",
       "      <td>0</td>\n",
       "      <td>1</td>\n",
       "      <td>0</td>\n",
       "      <td>0</td>\n",
       "    </tr>\n",
       "    <tr>\n",
       "      <th>9</th>\n",
       "      <td>andreas-beck</td>\n",
       "      <td>Andreas Beck</td>\n",
       "      <td>1899 Hoffenheim</td>\n",
       "      <td>Germany</td>\n",
       "      <td>13.03.1987</td>\n",
       "      <td>180.0</td>\n",
       "      <td>70.0</td>\n",
       "      <td>Right Fullback</td>\n",
       "      <td>1</td>\n",
       "      <td>1</td>\n",
       "      <td>0</td>\n",
       "      <td>0</td>\n",
       "      <td>0</td>\n",
       "    </tr>\n",
       "  </tbody>\n",
       "</table>\n",
       "</div>"
      ],
      "text/plain": [
       "          playerShort              player               club leagueCountry  \\\n",
       "0       lucas-wilchez       Lucas Wilchez      Real Zaragoza         Spain   \n",
       "1          john-utaka          John Utaka    Montpellier HSC        France   \n",
       "2         abdon-prats         Abdón Prats       RCD Mallorca         Spain   \n",
       "3          pablo-mari          Pablo Marí       RCD Mallorca         Spain   \n",
       "4          ruben-pena          Rubén Peña    Real Valladolid         Spain   \n",
       "5        aaron-hughes        Aaron Hughes          Fulham FC       England   \n",
       "6  aleksandar-kolarov  Aleksandar Kolarov    Manchester City       England   \n",
       "7    alexander-tettey    Alexander Tettey       Norwich City       England   \n",
       "8   anders-lindegaard   Anders Lindegaard  Manchester United       England   \n",
       "9        andreas-beck        Andreas Beck    1899 Hoffenheim       Germany   \n",
       "\n",
       "     birthday  height  weight              position  games  victories  ties  \\\n",
       "0  31.08.1983   177.0    72.0  Attacking Midfielder      1          0     0   \n",
       "1  08.01.1982   179.0    82.0          Right Winger      1          0     0   \n",
       "2  17.12.1992   181.0    79.0                   NaN      1          0     1   \n",
       "3  31.08.1993   191.0    87.0           Center Back      1          1     0   \n",
       "4  18.07.1991   172.0    70.0      Right Midfielder      1          1     0   \n",
       "5  08.11.1979   182.0    71.0           Center Back      1          0     0   \n",
       "6  10.11.1985   187.0    80.0         Left Fullback      1          1     0   \n",
       "7  04.04.1986   180.0    68.0  Defensive Midfielder      1          0     0   \n",
       "8  13.04.1984   193.0    80.0            Goalkeeper      1          0     1   \n",
       "9  13.03.1987   180.0    70.0        Right Fullback      1          1     0   \n",
       "\n",
       "   defeats  goals  \n",
       "0        1      0  \n",
       "1        1      0  \n",
       "2        0      0  \n",
       "3        0      0  \n",
       "4        0      0  \n",
       "5        1      0  \n",
       "6        0      0  \n",
       "7        1      0  \n",
       "8        0      0  \n",
       "9        0      0  "
      ]
     },
     "execution_count": 3,
     "metadata": {},
     "output_type": "execute_result"
    }
   ],
   "source": [
    "# Display the first 10 rows of the dataset. Only 13 columns for space reasons\n",
    "df.iloc[:10,:13]"
   ]
  },
  {
   "cell_type": "code",
   "execution_count": 4,
   "metadata": {
    "id": "_7rQCa07FVzw"
   },
   "outputs": [
    {
     "data": {
      "text/html": [
       "<div>\n",
       "<style scoped>\n",
       "    .dataframe tbody tr th:only-of-type {\n",
       "        vertical-align: middle;\n",
       "    }\n",
       "\n",
       "    .dataframe tbody tr th {\n",
       "        vertical-align: top;\n",
       "    }\n",
       "\n",
       "    .dataframe thead th {\n",
       "        text-align: right;\n",
       "    }\n",
       "</style>\n",
       "<table border=\"1\" class=\"dataframe\">\n",
       "  <thead>\n",
       "    <tr style=\"text-align: right;\">\n",
       "      <th></th>\n",
       "      <th>yellowCards</th>\n",
       "      <th>yellowReds</th>\n",
       "      <th>redCards</th>\n",
       "      <th>photoID</th>\n",
       "      <th>rater1</th>\n",
       "      <th>rater2</th>\n",
       "      <th>refNum</th>\n",
       "      <th>refCountry</th>\n",
       "      <th>Alpha_3</th>\n",
       "      <th>meanIAT</th>\n",
       "      <th>nIAT</th>\n",
       "      <th>seIAT</th>\n",
       "      <th>meanExp</th>\n",
       "      <th>nExp</th>\n",
       "      <th>seExp</th>\n",
       "    </tr>\n",
       "  </thead>\n",
       "  <tbody>\n",
       "    <tr>\n",
       "      <th>0</th>\n",
       "      <td>0</td>\n",
       "      <td>0</td>\n",
       "      <td>0</td>\n",
       "      <td>95212.jpg</td>\n",
       "      <td>0.25</td>\n",
       "      <td>0.50</td>\n",
       "      <td>1</td>\n",
       "      <td>1</td>\n",
       "      <td>GRC</td>\n",
       "      <td>0.326391</td>\n",
       "      <td>712.0</td>\n",
       "      <td>0.000564</td>\n",
       "      <td>0.396000</td>\n",
       "      <td>750.0</td>\n",
       "      <td>0.002696</td>\n",
       "    </tr>\n",
       "    <tr>\n",
       "      <th>1</th>\n",
       "      <td>1</td>\n",
       "      <td>0</td>\n",
       "      <td>0</td>\n",
       "      <td>1663.jpg</td>\n",
       "      <td>0.75</td>\n",
       "      <td>0.75</td>\n",
       "      <td>2</td>\n",
       "      <td>2</td>\n",
       "      <td>ZMB</td>\n",
       "      <td>0.203375</td>\n",
       "      <td>40.0</td>\n",
       "      <td>0.010875</td>\n",
       "      <td>-0.204082</td>\n",
       "      <td>49.0</td>\n",
       "      <td>0.061504</td>\n",
       "    </tr>\n",
       "    <tr>\n",
       "      <th>2</th>\n",
       "      <td>1</td>\n",
       "      <td>0</td>\n",
       "      <td>0</td>\n",
       "      <td>NaN</td>\n",
       "      <td>NaN</td>\n",
       "      <td>NaN</td>\n",
       "      <td>3</td>\n",
       "      <td>3</td>\n",
       "      <td>ESP</td>\n",
       "      <td>0.369894</td>\n",
       "      <td>1785.0</td>\n",
       "      <td>0.000229</td>\n",
       "      <td>0.588297</td>\n",
       "      <td>1897.0</td>\n",
       "      <td>0.001002</td>\n",
       "    </tr>\n",
       "    <tr>\n",
       "      <th>3</th>\n",
       "      <td>0</td>\n",
       "      <td>0</td>\n",
       "      <td>0</td>\n",
       "      <td>NaN</td>\n",
       "      <td>NaN</td>\n",
       "      <td>NaN</td>\n",
       "      <td>3</td>\n",
       "      <td>3</td>\n",
       "      <td>ESP</td>\n",
       "      <td>0.369894</td>\n",
       "      <td>1785.0</td>\n",
       "      <td>0.000229</td>\n",
       "      <td>0.588297</td>\n",
       "      <td>1897.0</td>\n",
       "      <td>0.001002</td>\n",
       "    </tr>\n",
       "    <tr>\n",
       "      <th>4</th>\n",
       "      <td>0</td>\n",
       "      <td>0</td>\n",
       "      <td>0</td>\n",
       "      <td>NaN</td>\n",
       "      <td>NaN</td>\n",
       "      <td>NaN</td>\n",
       "      <td>3</td>\n",
       "      <td>3</td>\n",
       "      <td>ESP</td>\n",
       "      <td>0.369894</td>\n",
       "      <td>1785.0</td>\n",
       "      <td>0.000229</td>\n",
       "      <td>0.588297</td>\n",
       "      <td>1897.0</td>\n",
       "      <td>0.001002</td>\n",
       "    </tr>\n",
       "    <tr>\n",
       "      <th>5</th>\n",
       "      <td>0</td>\n",
       "      <td>0</td>\n",
       "      <td>0</td>\n",
       "      <td>3868.jpg</td>\n",
       "      <td>0.25</td>\n",
       "      <td>0.00</td>\n",
       "      <td>4</td>\n",
       "      <td>4</td>\n",
       "      <td>LUX</td>\n",
       "      <td>0.325185</td>\n",
       "      <td>127.0</td>\n",
       "      <td>0.003297</td>\n",
       "      <td>0.538462</td>\n",
       "      <td>130.0</td>\n",
       "      <td>0.013752</td>\n",
       "    </tr>\n",
       "    <tr>\n",
       "      <th>6</th>\n",
       "      <td>0</td>\n",
       "      <td>0</td>\n",
       "      <td>0</td>\n",
       "      <td>47704.jpg</td>\n",
       "      <td>0.00</td>\n",
       "      <td>0.25</td>\n",
       "      <td>4</td>\n",
       "      <td>4</td>\n",
       "      <td>LUX</td>\n",
       "      <td>0.325185</td>\n",
       "      <td>127.0</td>\n",
       "      <td>0.003297</td>\n",
       "      <td>0.538462</td>\n",
       "      <td>130.0</td>\n",
       "      <td>0.013752</td>\n",
       "    </tr>\n",
       "    <tr>\n",
       "      <th>7</th>\n",
       "      <td>0</td>\n",
       "      <td>0</td>\n",
       "      <td>0</td>\n",
       "      <td>22356.jpg</td>\n",
       "      <td>1.00</td>\n",
       "      <td>1.00</td>\n",
       "      <td>4</td>\n",
       "      <td>4</td>\n",
       "      <td>LUX</td>\n",
       "      <td>0.325185</td>\n",
       "      <td>127.0</td>\n",
       "      <td>0.003297</td>\n",
       "      <td>0.538462</td>\n",
       "      <td>130.0</td>\n",
       "      <td>0.013752</td>\n",
       "    </tr>\n",
       "    <tr>\n",
       "      <th>8</th>\n",
       "      <td>0</td>\n",
       "      <td>0</td>\n",
       "      <td>0</td>\n",
       "      <td>16528.jpg</td>\n",
       "      <td>0.25</td>\n",
       "      <td>0.25</td>\n",
       "      <td>4</td>\n",
       "      <td>4</td>\n",
       "      <td>LUX</td>\n",
       "      <td>0.325185</td>\n",
       "      <td>127.0</td>\n",
       "      <td>0.003297</td>\n",
       "      <td>0.538462</td>\n",
       "      <td>130.0</td>\n",
       "      <td>0.013752</td>\n",
       "    </tr>\n",
       "    <tr>\n",
       "      <th>9</th>\n",
       "      <td>0</td>\n",
       "      <td>0</td>\n",
       "      <td>0</td>\n",
       "      <td>36499.jpg</td>\n",
       "      <td>0.00</td>\n",
       "      <td>0.00</td>\n",
       "      <td>4</td>\n",
       "      <td>4</td>\n",
       "      <td>LUX</td>\n",
       "      <td>0.325185</td>\n",
       "      <td>127.0</td>\n",
       "      <td>0.003297</td>\n",
       "      <td>0.538462</td>\n",
       "      <td>130.0</td>\n",
       "      <td>0.013752</td>\n",
       "    </tr>\n",
       "  </tbody>\n",
       "</table>\n",
       "</div>"
      ],
      "text/plain": [
       "   yellowCards  yellowReds  redCards    photoID  rater1  rater2  refNum  \\\n",
       "0            0           0         0  95212.jpg    0.25    0.50       1   \n",
       "1            1           0         0   1663.jpg    0.75    0.75       2   \n",
       "2            1           0         0        NaN     NaN     NaN       3   \n",
       "3            0           0         0        NaN     NaN     NaN       3   \n",
       "4            0           0         0        NaN     NaN     NaN       3   \n",
       "5            0           0         0   3868.jpg    0.25    0.00       4   \n",
       "6            0           0         0  47704.jpg    0.00    0.25       4   \n",
       "7            0           0         0  22356.jpg    1.00    1.00       4   \n",
       "8            0           0         0  16528.jpg    0.25    0.25       4   \n",
       "9            0           0         0  36499.jpg    0.00    0.00       4   \n",
       "\n",
       "   refCountry Alpha_3   meanIAT    nIAT     seIAT   meanExp    nExp     seExp  \n",
       "0           1     GRC  0.326391   712.0  0.000564  0.396000   750.0  0.002696  \n",
       "1           2     ZMB  0.203375    40.0  0.010875 -0.204082    49.0  0.061504  \n",
       "2           3     ESP  0.369894  1785.0  0.000229  0.588297  1897.0  0.001002  \n",
       "3           3     ESP  0.369894  1785.0  0.000229  0.588297  1897.0  0.001002  \n",
       "4           3     ESP  0.369894  1785.0  0.000229  0.588297  1897.0  0.001002  \n",
       "5           4     LUX  0.325185   127.0  0.003297  0.538462   130.0  0.013752  \n",
       "6           4     LUX  0.325185   127.0  0.003297  0.538462   130.0  0.013752  \n",
       "7           4     LUX  0.325185   127.0  0.003297  0.538462   130.0  0.013752  \n",
       "8           4     LUX  0.325185   127.0  0.003297  0.538462   130.0  0.013752  \n",
       "9           4     LUX  0.325185   127.0  0.003297  0.538462   130.0  0.013752  "
      ]
     },
     "execution_count": 4,
     "metadata": {},
     "output_type": "execute_result"
    }
   ],
   "source": [
    "# Display the other columns too\n",
    "df.iloc[:10,13:28]"
   ]
  },
  {
   "cell_type": "markdown",
   "metadata": {
    "id": "58n-SU8pFhF_"
   },
   "source": [
    "We already see some strange things in the data. Some refs officiated very few games. The two raters disagree about player skintone quite often. For some players there isn't a photo, so their skin tone couldn't be rated. Most dyads don't feature cards at all. In general, it's difficult to get an intuition for what the population looks like from inspecting small samples of the data. This is particularly difficult in the dyad format, as each player or ref's cards are spread un-evenly across the dataset."
   ]
  },
  {
   "cell_type": "markdown",
   "metadata": {
    "id": "ZncPlG8OFpvQ"
   },
   "source": [
    "#### Data Preparation Steps"
   ]
  },
  {
   "cell_type": "markdown",
   "metadata": {
    "id": "GxF76V-wF-ZO"
   },
   "source": [
    "The following questions may guide\n",
    "you:\n",
    "\n",
    "- What do the feature names (e.g. `column games`) stand for?\n",
    "  - There is a list (`README.md`) that explains all the names.\n",
    "- Which irrelevant features might be dropped?\n",
    "  - We dropped the name of the players but kept the short code to distinguish the players.\n",
    "  - Also the players characteristics like weight, height, etc. are not important.\n",
    "  - The club and league is not important.\n",
    "- What relevant features might be missing, but can be computed? E.g., you can obtain the age of a player (which might be relevant) from his birthday, or create entirely new features by non-linear combinations of existing ones.\n",
    "  - We combined yellowReds and redCards into total number of red cards ('reds')\n",
    "  - We don't think that there are more relevant features.\n",
    "- Are there missing data values (e.g. missing skin color ratings), and how should they be dealt with (see https://en.wikipedia.org/wiki/Missing_data)?\n",
    "  - Yes, there are missing data values. We just drop them from our data set and don't use them for training.\n",
    "- How good are the skin color ratings? Do the raters agree?\n",
    "  - The ratings disagree quite often but are not too different. That's why we just take the mean of the two ratings (reported as the new 'skin' column). A simple chart shows this disagreement below in the code.\n",
    "- Should referees with very few appearances be excluded from the dataset?\n",
    "  - No, they should not. We take every referee into account.\n",
    "- Should features be normalized and/or centralized?\n",
    "  - For each unique player, we calculate an average probability of getting a red card from all his encounters with different referees.\n",
    "\n",
    "Categorical features (e.g. `league`) should be transformed to a one-hot  ncoding (see https://en.wikipedia.org/wiki/One-hot). In case of league, you can also repreat the experiment independently for the different leagues to check if there are differences between countries. Provide a detailed description and justification of your data preparation."
   ]
  },
  {
   "cell_type": "code",
   "execution_count": 5,
   "metadata": {
    "colab": {
     "base_uri": "https://localhost:8080/",
     "height": 235
    },
    "id": "msFUuYOxMB8u",
    "outputId": "d2a44b8a-02ef-4359-83b7-d6f267a1ed8a"
   },
   "outputs": [
    {
     "name": "stdout",
     "output_type": "stream",
     "text": [
      "Raters Disgreement (absolute difference between the 2 skin rates | percentaage of players): \n",
      " 0.00    76.088328\n",
      "0.25    23.785489\n",
      "0.50     0.126183\n",
      "dtype: float64\n"
     ]
    },
    {
     "data": {
      "text/html": [
       "<div>\n",
       "<style scoped>\n",
       "    .dataframe tbody tr th:only-of-type {\n",
       "        vertical-align: middle;\n",
       "    }\n",
       "\n",
       "    .dataframe tbody tr th {\n",
       "        vertical-align: top;\n",
       "    }\n",
       "\n",
       "    .dataframe thead th {\n",
       "        text-align: right;\n",
       "    }\n",
       "</style>\n",
       "<table border=\"1\" class=\"dataframe\">\n",
       "  <thead>\n",
       "    <tr style=\"text-align: right;\">\n",
       "      <th></th>\n",
       "      <th>skin</th>\n",
       "      <th>reds/N</th>\n",
       "      <th>refNum</th>\n",
       "    </tr>\n",
       "  </thead>\n",
       "  <tbody>\n",
       "    <tr>\n",
       "      <th>0</th>\n",
       "      <td>0.125</td>\n",
       "      <td>0.000000</td>\n",
       "      <td>267701</td>\n",
       "    </tr>\n",
       "    <tr>\n",
       "      <th>1</th>\n",
       "      <td>0.125</td>\n",
       "      <td>0.002976</td>\n",
       "      <td>164589</td>\n",
       "    </tr>\n",
       "    <tr>\n",
       "      <th>2</th>\n",
       "      <td>0.250</td>\n",
       "      <td>0.000000</td>\n",
       "      <td>161486</td>\n",
       "    </tr>\n",
       "    <tr>\n",
       "      <th>3</th>\n",
       "      <td>0.000</td>\n",
       "      <td>0.003846</td>\n",
       "      <td>173524</td>\n",
       "    </tr>\n",
       "    <tr>\n",
       "      <th>4</th>\n",
       "      <td>0.250</td>\n",
       "      <td>0.048387</td>\n",
       "      <td>59603</td>\n",
       "    </tr>\n",
       "    <tr>\n",
       "      <th>...</th>\n",
       "      <td>...</td>\n",
       "      <td>...</td>\n",
       "      <td>...</td>\n",
       "    </tr>\n",
       "    <tr>\n",
       "      <th>1580</th>\n",
       "      <td>0.250</td>\n",
       "      <td>0.005102</td>\n",
       "      <td>220384</td>\n",
       "    </tr>\n",
       "    <tr>\n",
       "      <th>1581</th>\n",
       "      <td>0.000</td>\n",
       "      <td>0.000000</td>\n",
       "      <td>79202</td>\n",
       "    </tr>\n",
       "    <tr>\n",
       "      <th>1582</th>\n",
       "      <td>0.875</td>\n",
       "      <td>0.020253</td>\n",
       "      <td>140649</td>\n",
       "    </tr>\n",
       "    <tr>\n",
       "      <th>1583</th>\n",
       "      <td>0.000</td>\n",
       "      <td>0.042553</td>\n",
       "      <td>34125</td>\n",
       "    </tr>\n",
       "    <tr>\n",
       "      <th>1584</th>\n",
       "      <td>0.000</td>\n",
       "      <td>0.000000</td>\n",
       "      <td>46935</td>\n",
       "    </tr>\n",
       "  </tbody>\n",
       "</table>\n",
       "<p>1585 rows × 3 columns</p>\n",
       "</div>"
      ],
      "text/plain": [
       "       skin    reds/N  refNum\n",
       "0     0.125  0.000000  267701\n",
       "1     0.125  0.002976  164589\n",
       "2     0.250  0.000000  161486\n",
       "3     0.000  0.003846  173524\n",
       "4     0.250  0.048387   59603\n",
       "...     ...       ...     ...\n",
       "1580  0.250  0.005102  220384\n",
       "1581  0.000  0.000000   79202\n",
       "1582  0.875  0.020253  140649\n",
       "1583  0.000  0.042553   34125\n",
       "1584  0.000  0.000000   46935\n",
       "\n",
       "[1585 rows x 3 columns]"
      ]
     },
     "execution_count": 5,
     "metadata": {},
     "output_type": "execute_result"
    }
   ],
   "source": [
    "### Cleaning the data:\n",
    "\n",
    "df2 = df.dropna(subset=['photoID'])  #drop all dyads without photo\n",
    "\n",
    "df2 = df2.assign(skin=df.loc[:, [\"rater1\", \"rater2\"]].mean(axis=1))   #create skin feature (mean of the 2 raters)\n",
    "\n",
    "df2 = df2.assign(reds=df.loc[:, [\"yellowReds\", \"redCards\"]].sum(axis=1))   # create new column summing both types of red cards\n",
    "\n",
    "### simple chart to show disagreement in skin colour evaluation:\n",
    "df3 = df2.groupby([\"playerShort\",'rater1', 'rater2'], as_index=False).sum()  \n",
    "rate_diff = abs(df3['rater1'] - df3['rater2']).value_counts()\n",
    "print('Raters Disgreement (absolute difference between the 2 skin rates | percentaage of players): \\n', rate_diff/len(df3['rater1'])*100 )\n",
    "###\n",
    "\n",
    "DATA = df2.groupby([\"playerShort\",'skin'], as_index=False).sum()  #group dyads by player; now number of rows = number of players\n",
    "\n",
    "DATA[\"reds/N\"] = DATA[\"reds\"]/DATA[\"games\"]   # create new column with the label corresponding to each player\n",
    "\n",
    "DATA = DATA.loc[:,[\"skin\",\"reds/N\",\"refNum\"]]   #display final DATA; just skin (1D feature) and red cards/games played (labels)\n",
    "DATA\n",
    "\n",
    "#DATA = DATA.loc[:,[\"playerShort\",\"games\",\"reds\",\"skin\",\"reds/N\"]]   #we could show other columns too\n",
    "#DATA = DATA.groupby(\"skin\", as_index=False).mean()  "
   ]
  },
  {
   "cell_type": "markdown",
   "metadata": {
    "id": "lPunG1VIL9bH"
   },
   "source": [
    "### 2.2 Model Creation"
   ]
  },
  {
   "cell_type": "markdown",
   "metadata": {
    "id": "PhfLr0MFhtTH"
   },
   "source": [
    "#### Linear Regression"
   ]
  },
  {
   "cell_type": "markdown",
   "metadata": {
    "id": "spHuyGmloPzG"
   },
   "source": [
    "Linear regression determines a weighted sum of the features $\\hat{Y}_i = X_i \\hat{\\beta} + \\hat{b}$, where optimal weights\n",
    "and intercept minimize the squared error:\n",
    "\n",
    "\\begin{equation}\n",
    "\\hat{\\beta}, \\, \\hat{b} = \\text{arg min}_{\\beta, b} \\sum_i (X_i \\beta + b - Y_i^*)^2 \\,.\n",
    "\\end{equation}\n",
    "\n",
    "Differentiating with respect to $\\beta$ and $b$ and finding the minimum yields:\n",
    "\\begin{equation}\n",
    "\\hat{\\beta} = \\frac{\\sum_i X_i Y_i^* - N \\bar{X}\\bar{Y}^*}{\\sum_i X_i^2 - N \\bar{X}^2} \\,, \\,\n",
    "\\hat{b} = \\bar{Y}^* - \\hat{\\beta} \\bar{X} \\,,\n",
    "\\end{equation}\n",
    "where $N$ is the total number of players and $\\bar{X}$, $\\bar{Y}^*$ are the averages of $X_i$ and $Y_i^*$."
   ]
  },
  {
   "cell_type": "code",
   "execution_count": 6,
   "metadata": {
    "id": "M0Byg6obFpNZ"
   },
   "outputs": [],
   "source": [
    "class LinearRegression:\n",
    "    def __init__(self):\n",
    "        self.beta = None\n",
    "        self.b = None\n",
    "      \n",
    "    def train(self, data, labels):\n",
    "        '''\n",
    "        data: the feature matrix (N, D)\n",
    "        labels: the corresponding ground-truth responses (N)\n",
    "        '''\n",
    "        N, D = data.shape # N: number of players, D: feature dimension\n",
    "        labels = labels.reshape((N, 1))\n",
    "\n",
    "        # Average feature and label vector\n",
    "        X = np.mean(data, axis=0)\n",
    "        Y = np.mean(labels, axis=0)\n",
    "\n",
    "        self.beta = ( np.mean(data * labels, axis=0) - X * Y ) / ( np.mean(np.sum(data**2, axis=1), axis=0) - np.dot(X, X) )\n",
    "        self.b = Y - np.dot(self.beta, X)\n",
    "\n",
    "        return self.beta, self.b\n",
    "\n",
    "\n",
    "    def predict(self, data):\n",
    "        # Compute Y = beta * X + b\n",
    "        return np.matmul(data, self.beta) + self.b"
   ]
  },
  {
   "cell_type": "code",
   "execution_count": 7,
   "metadata": {
    "id": "b3ijUED54GBg"
   },
   "outputs": [
    {
     "name": "stdout",
     "output_type": "stream",
     "text": [
      "Predictions:  [0.00634445 0.00805887 0.00811046 ... 0.00845691 0.01022806 0.01001507]\n"
     ]
    },
    {
     "data": {
      "image/png": "[encoded data removed]",
      "text/plain": [
       "<Figure size 432x288 with 1 Axes>"
      ]
     },
     "metadata": {
      "needs_background": "light"
     },
     "output_type": "display_data"
    }
   ],
   "source": [
    "# Short visualization of how the Linear Regression works\n",
    "\n",
    "data = np.atleast_2d(DATA[[\"skin\",\"refNum\"]])\n",
    "labels = np.atleast_2d(DATA[\"reds/N\"])\n",
    "\n",
    "a = LinearRegression()\n",
    "a.train(data, labels)\n",
    "predictions = a.predict(data)\n",
    "\n",
    "print('Predictions: ', predictions)\n",
    "\n",
    "N = np.linspace(0, 1584, 1585)\n",
    "plt.plot(N, labels.reshape((1585)), color='green', label='Data')\n",
    "plt.plot(N, predictions.reshape((1585)), color='red', label='Prediction')\n",
    "plt.xlim(0, 200)\n",
    "plt.ylim(0, 0.08)\n",
    "plt.legend()\n",
    "plt.show()"
   ]
  },
  {
   "cell_type": "markdown",
   "metadata": {
    "id": "PtcmM85p4Zfi"
   },
   "source": [
    "#### Regression Forest"
   ]
  },
  {
   "cell_type": "code",
   "execution_count": 8,
   "metadata": {
    "id": "eO7ms9cW4b2l"
   },
   "outputs": [],
   "source": [
    "# Base classes\n",
    "class Node:\n",
    "    pass\n",
    "\n",
    "class Tree:\n",
    "    def __init__(self):\n",
    "        self.root = Node()\n",
    "    \n",
    "    def find_leaf(self, x):\n",
    "        node = self.root\n",
    "        while hasattr(node, \"feature\"):\n",
    "            j = node.feature\n",
    "            if x[j] <= node.threshold:\n",
    "                node = node.left\n",
    "            else:\n",
    "                node = node.right\n",
    "        return node"
   ]
  },
  {
   "cell_type": "code",
   "execution_count": 9,
   "metadata": {
    "id": "lJtgsFes4v38"
   },
   "outputs": [],
   "source": [
    "class RegressionTree(Tree):\n",
    "    def __init__(self):\n",
    "        super(RegressionTree, self).__init__()\n",
    "\n",
    "    def train(self, data, labels, n_min=10):\n",
    "        '''\n",
    "        data: the feature matrix\n",
    "        labels: the corresponding ground-truth responses\n",
    "        n_min: termination criterion (don't split if a node contains fewer instances)\n",
    "        '''\n",
    "        N, D = data.shape\n",
    "        D_try = int(np.sqrt(D)) # how many features to consider for each split decision\n",
    "\n",
    "        # initialize the root node\n",
    "        self.root.data = data\n",
    "        self.root.labels = labels\n",
    "        \n",
    "        #put root in stack\n",
    "        stack = [self.root]\n",
    "        while len(stack):\n",
    "            node = stack.pop()\n",
    "            n = node.data.shape[0] # number of instances in present node\n",
    "            if n >= n_min:\n",
    "                # Call 'make_decision_split_node()' with 'D_try' randomly selected \n",
    "                # feature indices. This turns 'node' into a split node\n",
    "                # and returns the two children, which must be placed on the 'stack'.\n",
    "                perm = np.random.permutation(D)   # permute D indices\n",
    "                left, right = make_decision_split_node(node, perm[:D_try]) #select :D_try of permuted indices\n",
    "                                                       #for 'make_decision_split_node()'\n",
    "                # put children in stack\n",
    "                stack.append(left)\n",
    "                stack.append(right)\n",
    "            else:\n",
    "                # Call 'make_decision_leaf_node()' to turn 'node' into a leaf node.\n",
    "                make_decision_leaf_node(node)\n",
    "                \n",
    "    def predict(self, x):\n",
    "        leaf = self.find_leaf(x)\n",
    "        # compute p(y | x)\n",
    "        return leaf.response "
   ]
  },
  {
   "cell_type": "code",
   "execution_count": 10,
   "metadata": {
    "id": "oMz9KPLg46NZ"
   },
   "outputs": [],
   "source": [
    "def make_decision_split_node(node, feature_indices):\n",
    "    '''\n",
    "    node: the node to be split\n",
    "    feature_indices: a numpy array of length 'D_try', containing the feature \n",
    "                     indices to be considered in the present split\n",
    "    '''\n",
    "    n, D = node.data.shape\n",
    "\n",
    "    # find best feature j (among 'feature_indices') and best threshold t for the split\n",
    "    e_min = 1e100\n",
    "    j_min, t_min = 0, 0\n",
    "    for j in feature_indices:\n",
    "        # remove duplicate features\n",
    "        dj = np.sort(np.unique(node.data[:,j]))\n",
    "        # compute candidate thresholds in the middle between consecutive feature values\n",
    "        tj = 0.5 * (dj[1:] + dj[:-1]) \n",
    "        # each candidate threshold we need to compute squared errors of the resulting children node\n",
    "        for t in tj:\n",
    "            left_indices = node.data[:,j] <= t\n",
    "            ll = node.labels[left_indices]\n",
    "            el = np.sum(np.square(ll - np.mean(ll)))\n",
    "            lr = node.labels[node.data[:,j] > t]\n",
    "            er = np.sum(np.square(lr - np.mean(lr)))\n",
    "            # choose the the best threshold that minimizes sum of squared errors\n",
    "            if el + er < e_min:\n",
    "                e_min = el + er\n",
    "                j_min = j\n",
    "                t_min = t\n",
    "\n",
    "    # create children\n",
    "    left = Node()\n",
    "    right = Node()\n",
    "    \n",
    "    # initialize 'left' and 'right' with the data subsets and labels\n",
    "    # according to the optimal split found above\n",
    "    left.data = node.data[node.data[:,j_min] <= t_min, :]\n",
    "    left.labels = node.labels[node.data[:,j_min] <= t_min]\n",
    "    right.data = node.data[node.data[:,j_min] > t_min, :]\n",
    "    right.labels = node.labels[node.data[:,j_min] > t_min]\n",
    "\n",
    "    # turn the current 'node' into a split node\n",
    "    # (store children and split condition)\n",
    "    node.left = left\n",
    "    node.right = right\n",
    "    node.feature = j_min\n",
    "    node.threshold = t_min\n",
    "\n",
    "    # return the children (to be placed on the stack)\n",
    "    return left, right    "
   ]
  },
  {
   "cell_type": "code",
   "execution_count": 11,
   "metadata": {
    "id": "VQQ2a2MH48uE"
   },
   "outputs": [],
   "source": [
    "def make_decision_leaf_node(node):\n",
    "    '''\n",
    "    node: the node to become a leaf\n",
    "    '''\n",
    "    node.N = node.labels.shape[0]\n",
    "    node.response = np.mean(node.labels)"
   ]
  },
  {
   "cell_type": "code",
   "execution_count": 12,
   "metadata": {
    "id": "X4127sJx5HPw"
   },
   "outputs": [],
   "source": [
    "class RegressionForest():\n",
    "    def __init__(self, n_trees=10):\n",
    "        # create ensemble\n",
    "        self.trees = [RegressionTree() for i in range(n_trees)]\n",
    "    \n",
    "    def train(self, data, labels, n_min=10):\n",
    "        for tree in self.trees:\n",
    "            # train each tree, using a bootstrap sample of the data\n",
    "            bootstrap = np.random.choice(len(data), size=len(data))\n",
    "            tree.train(data[bootstrap], labels[bootstrap], n_min)\n",
    "\n",
    "    def predict(self, x):\n",
    "        # compute the ensemble prediction\n",
    "        return np.mean([tree.predict(x) for tree in self.trees], axis=0)"
   ]
  },
  {
   "cell_type": "code",
   "execution_count": 13,
   "metadata": {
    "id": "H4grSaEs9m6z"
   },
   "outputs": [
    {
     "name": "stderr",
     "output_type": "stream",
     "text": [
      "C:\\Users\\Eugen\\anaconda3\\lib\\site-packages\\numpy\\core\\fromnumeric.py:3334: RuntimeWarning: Mean of empty slice.\n",
      "  return _methods._mean(a, axis=axis, dtype=dtype,\n",
      "C:\\Users\\Eugen\\anaconda3\\lib\\site-packages\\numpy\\core\\_methods.py:161: RuntimeWarning: invalid value encountered in double_scalars\n",
      "  ret = ret.dtype.type(ret / rcount)\n"
     ]
    },
    {
     "name": "stdout",
     "output_type": "stream",
     "text": [
      "Predictions:  [0.0037775  0.00478382 0.01023267 ... 0.01359929 0.02073297 0.00702685]\n"
     ]
    },
    {
     "data": {
      "image/png": "[encoded data removed]",
      "text/plain": [
       "<Figure size 432x288 with 1 Axes>"
      ]
     },
     "metadata": {
      "needs_background": "light"
     },
     "output_type": "display_data"
    }
   ],
   "source": [
    "# Short visualization of how the Regression Forest works\n",
    "\n",
    "data = np.atleast_2d(DATA[[\"skin\",\"refNum\"]])\n",
    "labels = np.atleast_2d(DATA[\"reds/N\"]).reshape((len(data)))\n",
    "\n",
    "b = RegressionForest()\n",
    "b.train(data, labels)\n",
    "\n",
    "predictions = np.zeros(len(data[:,0]))\n",
    "\n",
    "for i in range(len(data[:,0])):\n",
    "    predictions[i] = b.predict(data[i,:])\n",
    "\n",
    "print('Predictions: ', predictions)\n",
    "\n",
    "N = np.linspace(0, 1584, 1585)\n",
    "plt.plot(N,labels.reshape((1585)), color='green', label='Data')\n",
    "plt.plot(N,predictions.reshape((1585)), color='red', label='Prediction')\n",
    "plt.xlim(0, 200)\n",
    "plt.ylim(0, 0.08)\n",
    "plt.legend()\n",
    "plt.show()"
   ]
  },
  {
   "cell_type": "markdown",
   "metadata": {},
   "source": [
    "We see that the Regression Forest is much more flexible and fits the data better."
   ]
  },
  {
   "cell_type": "markdown",
   "metadata": {
    "id": "lb5zowHnAFQy"
   },
   "source": [
    "#### Cross-Validation"
   ]
  },
  {
   "cell_type": "code",
   "execution_count": 14,
   "metadata": {
    "id": "8K-rZLSpAKIQ"
   },
   "outputs": [],
   "source": [
    "def cross_validate(n_folds, data, labels):\n",
    "    N, D = data.shape\n",
    "    linear_regression = LinearRegression()\n",
    "    regression_forest = RegressionForest()\n",
    "\n",
    "    results = []\n",
    "    error_rates_linear = []; error_rates_forest = []\n",
    "\n",
    "    perm = range(N)\n",
    "    X_folds = np.array_split(data[perm], n_folds)\n",
    "    y_folds = np.array_split(labels[perm], n_folds)\n",
    "\n",
    "    for n in range(n_folds):\n",
    "        # construct train and test set from folds\n",
    "        X_train_f = np.concatenate([X_folds[i] for i in range(n_folds) if i != n])\n",
    "        X_test_f = X_folds[n]\n",
    "        y_train_f = np.concatenate([y_folds[i] for i in range(n_folds) if i != n])\n",
    "        y_test_f = y_folds[n]\n",
    "\n",
    "        # run linear regression\n",
    "        beta, b = linear_regression.train(X_train_f, y_train_f)\n",
    "        results_linear = linear_regression.predict(X_test_f)\n",
    "        error_rates_linear.append(np.sum(np.square(results_linear - y_test_f)))\n",
    "\n",
    "        # run regression forest\n",
    "        regression_forest.train(X_train_f, y_train_f)\n",
    "        results_forest = np.zeros(len(X_test_f[:,0]))\n",
    "        for i in range(len(X_test_f[:,0])):\n",
    "            results_forest[i] = regression_forest.predict(X_test_f[i,:])\n",
    "        error_rates_forest.append(np.sum(np.square((results_forest - y_test_f)[np.isfinite(results_forest)]))) # filter out nan\n",
    "\n",
    "\n",
    "    results.append(np.array(\n",
    "            [[np.mean(error_rates_linear), np.std(error_rates_linear)],\n",
    "              [np.mean(error_rates_forest), np.std(error_rates_forest)]]\n",
    "        ))\n",
    "\n",
    "    return results[0]"
   ]
  },
  {
   "cell_type": "code",
   "execution_count": 15,
   "metadata": {
    "colab": {
     "base_uri": "https://localhost:8080/"
    },
    "id": "cVdr_BnTEqth",
    "outputId": "de9da2d6-3159-4423-bcd2-a73a7215dd84"
   },
   "outputs": [
    {
     "name": "stderr",
     "output_type": "stream",
     "text": [
      "C:\\Users\\Eugen\\anaconda3\\lib\\site-packages\\numpy\\core\\fromnumeric.py:3334: RuntimeWarning: Mean of empty slice.\n",
      "  return _methods._mean(a, axis=axis, dtype=dtype,\n",
      "C:\\Users\\Eugen\\anaconda3\\lib\\site-packages\\numpy\\core\\_methods.py:161: RuntimeWarning: invalid value encountered in double_scalars\n",
      "  ret = ret.dtype.type(ret / rcount)\n"
     ]
    }
   ],
   "source": [
    "# Perform cross-validation for 10 folds\n",
    "\n",
    "errors = cross_validate(10, data, labels)"
   ]
  },
  {
   "cell_type": "code",
   "execution_count": 16,
   "metadata": {},
   "outputs": [
    {
     "name": "stdout",
     "output_type": "stream",
     "text": [
      "Linear Regression Error: 1.74% +- 0.55%.\n",
      "Regression Forest Error: 2.17% +- 0.64%.\n"
     ]
    }
   ],
   "source": [
    "print('Linear Regression Error: {:2.2%} +- {:2.2%}.'.format(errors[0][0], errors[0][1]))\n",
    "print('Regression Forest Error: {:2.2%} +- {:2.2%}.'.format(errors[1][0], errors[1][1]))"
   ]
  },
  {
   "cell_type": "code",
   "execution_count": 17,
   "metadata": {},
   "outputs": [],
   "source": [
    "# Dependence on the n-folds\n",
    "\n",
    "errors_linear = []\n",
    "errors_forest = []\n",
    "stds_linear = []\n",
    "stds_forest = []\n",
    "\n",
    "for i in range(2,11):\n",
    "    errors = cross_validate(i, data, labels)\n",
    "    errors_linear.append(errors[0][0])\n",
    "    errors_forest.append(errors[1][0])\n",
    "    stds_linear.append(errors[0][1])\n",
    "    stds_forest.append(errors[1][1])"
   ]
  },
  {
   "cell_type": "code",
   "execution_count": 18,
   "metadata": {},
   "outputs": [
    {
     "data": {
      "image/png": "[encoded data removed]",
      "text/plain": [
       "<Figure size 432x288 with 1 Axes>"
      ]
     },
     "metadata": {
      "needs_background": "light"
     },
     "output_type": "display_data"
    }
   ],
   "source": [
    "n = np.linspace(2, 10, 9)\n",
    "plt.errorbar(n, errors_linear, yerr=stds_linear, label='Linear Regression', capsize=2)\n",
    "plt.errorbar(n, errors_forest, yerr=stds_forest, label='Regression Forest', capsize=2)\n",
    "plt.xlabel('n-folds')\n",
    "plt.ylabel('Cross-Validation Mean Squared Error')\n",
    "plt.legend()\n",
    "plt.show()"
   ]
  },
  {
   "cell_type": "markdown",
   "metadata": {},
   "source": [
    "We can follow that the error of the Regression Forest is slightly higher than that of the Linear Regression. It seems like the Regression Forest fits the training data very well but doesn't generalize so well for unseen data."
   ]
  },
  {
   "cell_type": "markdown",
   "metadata": {},
   "source": [
    "### 2.3 Answering the research question"
   ]
  },
  {
   "cell_type": "code",
   "execution_count": 20,
   "metadata": {},
   "outputs": [],
   "source": [
    "# Produce 19 different test sets with shuffled skin color variable\n",
    "\n",
    "def permutation_test(n_folds, data, labels, n_permutations):\n",
    "    # produce some array to fit the data in\n",
    "    performation_data = np.full((n_permutations, len(data), len(data[0])), data)\n",
    "    skin_var = data[:,0] # skin has to be at first position in data\n",
    "\n",
    "    for i in range(n_permutations):\n",
    "        # shuffle skin data and then write it into the data set\n",
    "        np.random.shuffle(skin_var)\n",
    "        performation_data[i,:,0] = skin_var\n",
    "    \n",
    "    # calculate the cross validation error for each data set\n",
    "    performation_test_error = np.zeros((n_permutations, 2, 2))\n",
    "    for i in range(n_permutations):\n",
    "        performation_test_error[i] = cross_validate(n_folds, performation_data[i], labels)\n",
    "    \n",
    "    return performation_test_error"
   ]
  },
  {
   "cell_type": "code",
   "execution_count": 21,
   "metadata": {},
   "outputs": [],
   "source": [
    "# Get the error for all permutations seperately\n",
    "\n",
    "error_with_perm = permutation_test(4, data, labels, 19)"
   ]
  },
  {
   "cell_type": "code",
   "execution_count": 23,
   "metadata": {},
   "outputs": [],
   "source": [
    "error_no_perm = cross_validate(4, data, labels)"
   ]
  },
  {
   "cell_type": "markdown",
   "metadata": {},
   "source": [
    "We produced N_permutations data sets with differently shuffeled skin variable among the players. Then we calculate the error by cross-validation. If the error of the shuffeled datasets is always larger than the original dataset, we can state thatthere is a bias. The following graph should show wether the error is above or below the original datset for the several shuffeled datasets."
   ]
  },
  {
   "cell_type": "code",
   "execution_count": 48,
   "metadata": {},
   "outputs": [
    {
     "data": {
      "image/png": "[encoded data removed]",
      "text/plain": [
       "<Figure size 432x288 with 1 Axes>"
      ]
     },
     "metadata": {
      "needs_background": "light"
     },
     "output_type": "display_data"
    }
   ],
   "source": [
    "n = np.arange(19) #number of permutations\n",
    "\n",
    "plt.errorbar(n, error_with_perm[:,0,0], yerr=error_with_perm[:,0,1], label=\"linear regression\", capsize=3)\n",
    "plt.plot(n, np.full(len(n),error_no_perm[0,0]), \"g\", label=\"linear regression without permutation\")\n",
    "plt.plot(n, np.full(len(n),error_no_perm[0,0])+np.full(len(n),error_no_perm[0,1]), \":\", color=\"g\")\n",
    "plt.plot(n, np.full(len(n),error_no_perm[0,0])-np.full(len(n),error_no_perm[0,1]), \":\", color=\"g\")\n",
    "\n",
    "plt.ylabel(\"error\")\n",
    "plt.xlabel(\"number of permutations\")\n",
    "plt.xlim(0,18)\n",
    "plt.ylim(0.034,0.055)\n",
    "plt.legend(bbox_to_anchor=(1, 0.5))\n",
    "plt.show()"
   ]
  },
  {
   "cell_type": "code",
   "execution_count": 46,
   "metadata": {},
   "outputs": [
    {
     "data": {
      "image/png": "[encoded data removed]",
      "text/plain": [
       "<Figure size 432x288 with 1 Axes>"
      ]
     },
     "metadata": {
      "needs_background": "light"
     },
     "output_type": "display_data"
    }
   ],
   "source": [
    "plt.errorbar(n, error_with_perm[:,1,0], yerr=error_with_perm[:,1,1], label=\"regression forest\", capsize=3)\n",
    "plt.plot(n, np.full(len(n),error_no_perm[1,0]), \"r\", label=\"regression forest without permutation\")\n",
    "plt.plot(n, np.full(len(n),error_no_perm[1,0])+np.full(len(n),error_no_perm[1,1]), \":\", color=\"r\")\n",
    "plt.plot(n, np.full(len(n),error_no_perm[1,0])-np.full(len(n),error_no_perm[1,1]), \":\", color=\"r\")\n",
    "\n",
    "plt.ylabel(\"error\")\n",
    "plt.xlabel(\"number of permutations\")\n",
    "plt.xlim(0,18)\n",
    "plt.ylim(0.04,0.069)\n",
    "plt.legend(bbox_to_anchor=(1, 0.5))\n",
    "plt.show()"
   ]
  },
  {
   "cell_type": "markdown",
   "metadata": {},
   "source": [
    "Since the absolute error of the Regression Forest with permutations is not significantly larger than the absolute error of the Regression Forest without permutations (we have the same behavior for the Linear Regression model), this gives rise to no bias!\n",
    "We thus think that there is no correspondence between the skin color of a player and the number of red cards."
   ]
  },
  {
   "cell_type": "code",
   "execution_count": null,
   "metadata": {},
   "outputs": [],
   "source": []
  }
 ],
 "metadata": {
  "colab": {
   "collapsed_sections": [],
   "name": "red-cards.ipynb",
   "provenance": []
  },
  "kernelspec": {
   "display_name": "Python 3",
   "language": "python",
   "name": "python3"
  },
  "language_info": {
   "codemirror_mode": {
    "name": "ipython",
    "version": 3
   },
   "file_extension": ".py",
   "mimetype": "text/x-python",
   "name": "python",
   "nbconvert_exporter": "python",
   "pygments_lexer": "ipython3",
   "version": "3.8.3"
  }
 },
 "nbformat": 4,
 "nbformat_minor": 1
}
