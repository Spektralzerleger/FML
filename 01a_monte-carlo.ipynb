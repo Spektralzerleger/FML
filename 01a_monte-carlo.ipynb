{
 "cells": [
  {
   "cell_type": "markdown",
   "metadata": {},
   "source": [
    "# Exercise 1a"
   ]
  },
  {
   "cell_type": "markdown",
   "metadata": {},
   "source": [
    "Group Members: Luis Pazos Clemens, Robert Freund, Eugen Dizer\n",
    "\n",
    "Deadline: 20.11.2020, 16:00."
   ]
  },
  {
   "cell_type": "code",
   "execution_count": 1,
   "metadata": {},
   "outputs": [],
   "source": [
    "#Load standard libraries\n",
    "import numpy as np   \n",
    "import matplotlib.pyplot as plt   \n",
    "%matplotlib inline"
   ]
  },
  {
   "cell_type": "markdown",
   "metadata": {},
   "source": [
    "# 1 Monte-Carlo Simulation\n",
    "\n",
    "In the lecture, we considered the following toy problem: The feature variable $X \\in [0, 1]$ is real-valued\n",
    "and 1-dimensional, and the response $Y \\in \\{0, 1\\}$ is discrete with two classes. The prior probabilities\n",
    "and likelihoods are given by\n",
    "\\begin{align*}\n",
    "p(Y = 0) = p(Y &= 1) = \\frac{1}{2} \\,, \\\\\n",
    "p(X = x \\vert Y = 0) &= 2 − 2x \\,, \\\\\n",
    "p(X = x \\vert Y = 1) &= 2x \\,.\n",
    "\\end{align*}\n",
    "\n",
    "We also derived theoretical error rates of the Bayes and nearest neighbor classifiers for this problem. Monte Carlo simulation is a powerful method to verify the correctness of theoretical results\n",
    "experimentally."
   ]
  },
  {
   "cell_type": "markdown",
   "metadata": {},
   "source": [
    "## 1.1 Data Creation and Visualization (7 points)"
   ]
  },
  {
   "cell_type": "markdown",
   "metadata": {},
   "source": [
    "Since the given model is generative, one can create data using a random number generator. Specifically, one first samples an instance label $Y$ according to the prior probabilities, and then uses the\n",
    "corresponding likelihood to sample the feature $X$. If no predefined random generator for the desired\n",
    "likelihood is available (as is the case here), uniformly distributed samples from a standard random\n",
    "number generator can be transformed to the desired distribution by means of \"inverse transform\n",
    "sampling\" (see https://en.wikipedia.org/wiki/Inverse_transform_sampling).\n",
    "\n",
    "Work out the required transformation formulas for our likelihoods and show your derivation in a\n",
    "Markdown cell. Then implement a function that returns the $X$-values and corresponding $Y$-labels for $N$ data instances. Use the module\n",
    "numpy.random to generate random numbers. Check that the data have the correct distribution\n",
    "with matplotlib (see https://matplotlib.org/gallery/statistics/hist.html for a demo)."
   ]
  },
  {
   "cell_type": "markdown",
   "metadata": {},
   "source": [
    "### Derivation:\n",
    "\n",
    "We have the given likelihoods: $p(X=x \\vert Y=0) = 2 - 2x$ and $p(X=x \\vert Y=1) = 2x$. \n",
    "\n",
    "From these we can construct the cumulative distribution functions by integration:\n",
    "\\begin{align*}\n",
    "F_x(Y = 0) &= 2x - x^2 \\,, \\\\ \n",
    "F_x(Y = 1) &= x^2 \\,.\n",
    "\\end{align*}\n",
    "\n",
    "Inverting those functions, one gets the distribution for $X$:\n",
    "\\begin{align*}\n",
    "X(Y = 0) &= F^{-1}_x(Y = 0) = 1 - \\sqrt{1-u} \\,, \\\\ \n",
    "X(Y = 1) &= F^{-1}_x(Y = 1) = \\sqrt{u} \\,,\n",
    "\\end{align*}\n",
    "where $u \\in [0,1]$ is a random variable. "
   ]
  },
  {
   "cell_type": "code",
   "execution_count": 2,
   "metadata": {},
   "outputs": [],
   "source": [
    "def create_data(N):\n",
    "    # Create N uniformly distributed random numbers\n",
    "    U = np.random.rand(N)\n",
    "    \n",
    "    # Get the X variables with the respective distribution\n",
    "    X0 = 1 - np.sqrt(1-U)\n",
    "    X1 = np.sqrt(U)\n",
    "    \n",
    "    # Create N random numbers 0 or 1 with probability 0.5\n",
    "    Y = np.random.rand(N)\n",
    "    Y[Y < 0.5] = 0\n",
    "    Y[Y >= 0.5] = 1\n",
    "    \n",
    "    # Pick a random X0 when Y=0\n",
    "    # Pick a random X1 when Y=1\n",
    "    X = X0\n",
    "    X[Y == 1] = X1[Y == 1]\n",
    "\n",
    "    return [X, Y]"
   ]
  },
  {
   "cell_type": "markdown",
   "metadata": {},
   "source": [
    "The distribution can be visualized with histograms:"
   ]
  },
  {
   "cell_type": "code",
   "execution_count": 3,
   "metadata": {},
   "outputs": [
    {
     "data": {
      "image/png": "[encoded data removed]",
      "text/plain": [
       "<Figure size 432x288 with 1 Axes>"
      ]
     },
     "metadata": {
      "needs_background": "light"
     },
     "output_type": "display_data"
    },
    {
     "data": {
      "image/png": "[encoded data removed]",
      "text/plain": [
       "<Figure size 432x288 with 1 Axes>"
      ]
     },
     "metadata": {
      "needs_background": "light"
     },
     "output_type": "display_data"
    }
   ],
   "source": [
    "N = 50000\n",
    "\n",
    "data = create_data(N)\n",
    "\n",
    "# X values where Y = 0\n",
    "X0 = data[0][data[1] == 0]\n",
    "\n",
    "# X values where Y = 1\n",
    "X1 = data[0][data[1] == 1]\n",
    "\n",
    "plt.title(\"Distribution of X where Y = 0\")\n",
    "plt.hist(X0, bins=50)\n",
    "plt.ylabel('Number')\n",
    "plt.xlabel('x')\n",
    "plt.show()\n",
    "\n",
    "plt.title(\"Distribution of X where Y = 1\")\n",
    "plt.hist(X1, bins=50)\n",
    "plt.ylabel('Number')\n",
    "plt.xlabel('x')\n",
    "plt.show()"
   ]
  },
  {
   "cell_type": "markdown",
   "metadata": {},
   "source": [
    "## 1.2 Classification by Thresholding\n",
    "\n",
    "In the lecture, we defined a classification rule deciding according to a threshold $x_t \\in [0, 1]$:\n",
    "\n",
    "- Rule A  (threshold classifier): $Y = f_A(X;x_t) = 0$ if $X < x_t$ and $Y = f_A(X;x_t) = 1$ if $X \\geq x_t$\n",
    "- Rule B  (threshold anti-classifier): $Y = f_B(X;x_t) = 1$ if $X < x_t$ and $Y = f_B(X;x_t) = 0$ if $X \\geq x_t$\n",
    "\n",
    "The corresponding error rates are:\n",
    "\\begin{align*}\n",
    "p(\\text{error}|A; x_t) &= \\frac{1}{4} + \\left(x_t - \\frac{1}{2}\\right)^2 \\\\\n",
    "p(\\text{error}|B; x_t) &= \\frac{3}{4} - \\left(x_t - \\frac{1}{2}\\right)^2 = 1 - p(\\text{error}|A; x_t)\n",
    "\\end{align*}\n",
    "\n",
    "Confirm experimentally for $x_t \\in \\{0.2, 0.5, 0.6\\}$ that the predicted error rates are correct: Verify\n",
    "that the minimum overall error of 25% is achieved when the threshold $x_t = 0.5$ (optimal Bayes\n",
    "classifier). Repeat each test with 10 different test datasets of the same size $M$ and compute mean\n",
    "and standard deviation of the error. Use test set sizes $M \\in \\{10, 100, 1000, 10000\\}$. How does the\n",
    "error standard deviation decrease with increasing $M$?"
   ]
  },
  {
   "cell_type": "code",
   "execution_count": 4,
   "metadata": {},
   "outputs": [],
   "source": [
    "#Define Threshold classifier A\n",
    "def thresh_class_A(x,t):\n",
    "    y=1\n",
    "    if x<t:\n",
    "        y=0\n",
    "    return y\n",
    "\n",
    "#Define Thresshold Classifier B\n",
    "def thresh_class_B(x,t):\n",
    "    y=1\n",
    "    if x >= t:\n",
    "        y=0\n",
    "    return y\n",
    "\n",
    "#Calculate Error of A and B for different thresholds and same Data set\n",
    "def calc_error(data_set,thresh):\n",
    "    #Empty arrays to append results\n",
    "    error_res = np.array([[],[]])\n",
    "    \n",
    "    #Run over different thresholds\n",
    "    for t in thresh:\n",
    "        error = np.array([[0],[0]])\n",
    "        \n",
    "        #Run over all points of the dataset\n",
    "        for i in range(len(data_set[0])):\n",
    "            #Check wether classifier A gives wrong result and count errors\n",
    "            if thresh_class_A(data_set[0][i],t) != data_set[1][i]:\n",
    "                error[0][0] += 1\n",
    "            #Same for classifier B\n",
    "            if thresh_class_B(data_set[0][i],t) != data_set[1][i]:\n",
    "                error[1][0] += 1\n",
    "        \n",
    "        #Append data\n",
    "        error_res = np.append(error_res,error,axis=1)\n",
    "    \n",
    "    #Calculate probability and return data\n",
    "    return error_res/len(data_set[0])"
   ]
  },
  {
   "cell_type": "code",
   "execution_count": 5,
   "metadata": {},
   "outputs": [],
   "source": [
    "#Analytic errorfunction of classifier A for different thresholds\n",
    "def calc_error_analytic_A(thresh):\n",
    "    error_ana = np.array([])\n",
    "    for t in thresh:\n",
    "        error_ana = np.append(error_ana,0.25+(t-0.5)**2)\n",
    "    return error_ana\n",
    "\n",
    "#Same for classifier B\n",
    "def calc_error_analytic_B(thresh):\n",
    "    error_ana = np.array([])\n",
    "    for t in thresh:\n",
    "        error_ana = np.append(error_ana,0.75-(t-0.5)**2)\n",
    "    return error_ana"
   ]
  },
  {
   "cell_type": "code",
   "execution_count": 6,
   "metadata": {},
   "outputs": [],
   "source": [
    "#Define threshold\n",
    "thresh = [0.2,0.5,0.6]\n",
    "\n",
    "#Define size of dataset\n",
    "M = [10,100,1000,10000]\n",
    "\n",
    "#Arrays to store result\n",
    "error_res_A = np.zeros((len(M),len(thresh),10))\n",
    "error_res_B = np.zeros((len(M),len(thresh),10))\n",
    "\n",
    "#Run over all dataset sizes\n",
    "for i in range(len(M)):\n",
    "    error_res10_A = np.zeros((10,len(thresh)))\n",
    "    error_res10_B = np.zeros((10,len(thresh)))\n",
    "    \n",
    "    #Run over all thresholds\n",
    "    for j in range(10):\n",
    "        #Calculate corresponding error probability\n",
    "        error_res10_A[j]=calc_error(create_data(M[i]),thresh)[0]\n",
    "        error_res10_B[j]=calc_error(create_data(M[i]),thresh)[1]\n",
    "    \n",
    "    #Write in an array\n",
    "    error_res_A[i] = error_res10_A.T\n",
    "    error_res_B[i] = error_res10_B.T"
   ]
  },
  {
   "cell_type": "code",
   "execution_count": 7,
   "metadata": {},
   "outputs": [],
   "source": [
    "#Calculate Mean value and standard deviation\n",
    "\n",
    "mean_std_A = np.zeros((len(M),len(thresh),2))\n",
    "mean_std_B = np.zeros((len(M),len(thresh),2))\n",
    "\n",
    "#Run overall dataset sizes\n",
    "for i in range(len(M)):\n",
    "    #Run over all threshholds\n",
    "    for j in range(len(thresh)):\n",
    "        #Calculate mean and standard deviation\n",
    "        mean_std_A[i,j] = np.array([np.mean(error_res_A[i,j]),np.std(error_res_A[i,j])])*100\n",
    "        mean_std_B[i,j] = np.array([np.mean(error_res_B[i,j]),np.std(error_res_B[i,j])])*100"
   ]
  },
  {
   "cell_type": "markdown",
   "metadata": {},
   "source": [
    "So far we calculated the error probability of 4 different dataset sizes (10,100,1000,10000) for three different thresholds (0.2,0.5,0.6). We stored the corresponing mean value and standard deviation for 10 different datasets. In the following two graphs we plot the mean value with its standard deviation as errorbar against the size of the dataset.\n",
    "\n",
    "We see espacially for larger datasets (M>100) that the red classifier with threshold $x_t=0.5$ has the lowest error probability. It converges to $p=25 \\%$.\n",
    "\n",
    "Also the other thresholds $x_t=0.6$ and $x_t=0.2$ converge to its corresponding analytical value $p=34 \\%$ and $p=26 \\%$."
   ]
  },
  {
   "cell_type": "code",
   "execution_count": 8,
   "metadata": {},
   "outputs": [
    {
     "name": "stdout",
     "output_type": "stream",
     "text": [
      "Analytical probability error for x_t = [0.2,0.5,0.6]: [0.34 0.25 0.26]\n"
     ]
    },
    {
     "data": {
      "image/png": "[encoded data removed]",
      "text/plain": [
       "<Figure size 432x288 with 1 Axes>"
      ]
     },
     "metadata": {
      "needs_background": "light"
     },
     "output_type": "display_data"
    }
   ],
   "source": [
    "print(\"Analytical probability error for x_t = [0.2,0.5,0.6]:\",calc_error_analytic_A(thresh))\n",
    "\n",
    "#Plot the Error probability of different threshold parameters against the dataset size\n",
    "plt.errorbar(M,mean_std_A[:,0,0],yerr=mean_std_A[:,0,1],fmt=\".\",color=\"g\",elinewidth=1, capsize=2, capthick=1, markersize=5)\n",
    "plt.errorbar(M,mean_std_A[:,1,0],yerr=mean_std_A[:,1,1],fmt=\".\",color=\"r\",elinewidth=1, capsize=2, capthick=1, markersize=5)\n",
    "plt.errorbar(M,mean_std_A[:,2,0],yerr=mean_std_A[:,2,1],fmt=\".\",color=\"b\",elinewidth=1, capsize=2, capthick=1, markersize=5)\n",
    "\n",
    "#Analytical result\n",
    "plt.plot([10,10000],[34,34],\"--\",color=\"g\", label=\"analytical value $x_t = 0.2$\")\n",
    "plt.plot([10,10000],[25,25],\"--\",color=\"r\", label=\"analytical value $x_t = 0.5$\")\n",
    "plt.plot([10,10000],[26,26],\"--\",color=\"b\", label=\"analytical value $x_t = 0.6$\")\n",
    "\n",
    "plt.xscale(\"log\")\n",
    "plt.ylabel(\"error probability [%]\")\n",
    "plt.xlabel(\"Size of Dataset\")\n",
    "plt.title(\"error probability of Classifier A\")\n",
    "plt.legend()\n",
    "plt.show()"
   ]
  },
  {
   "cell_type": "markdown",
   "metadata": {},
   "source": [
    "Also for Classifier B the three thresholds converge to its analytical value."
   ]
  },
  {
   "cell_type": "code",
   "execution_count": 9,
   "metadata": {},
   "outputs": [
    {
     "data": {
      "image/png": "[encoded data removed]",
      "text/plain": [
       "<Figure size 432x288 with 1 Axes>"
      ]
     },
     "metadata": {
      "needs_background": "light"
     },
     "output_type": "display_data"
    }
   ],
   "source": [
    "plt.errorbar(M,mean_std_B[:,0,0],yerr=mean_std_B[:,0,1],fmt=\".\",color=\"g\",elinewidth=1, capsize=2, capthick=1, markersize=5)\n",
    "plt.errorbar(M,mean_std_B[:,1,0],yerr=mean_std_B[:,1,1],fmt=\".\",color=\"r\",elinewidth=1, capsize=2, capthick=1, markersize=5)\n",
    "plt.errorbar(M,mean_std_B[:,2,0],yerr=mean_std_B[:,2,1],fmt=\".\",color=\"b\",elinewidth=1, capsize=2, capthick=1, markersize=5)\n",
    "plt.plot([10,10000],[66,66],\"--\",color=\"g\", label=\"analytical value $x_t = 0.2$\")\n",
    "plt.plot([10,10000],[75,75],\"--\",color=\"r\", label=\"analytical value $x_t = 0.5$\")\n",
    "plt.plot([10,10000],[74,74],\"--\",color=\"b\", label=\"analytical value $x_t = 0.6$\")\n",
    "plt.xscale(\"log\")\n",
    "plt.ylabel(\"error probability [%]\")\n",
    "plt.xlabel(\"Size of Dataset\")\n",
    "plt.title(\"error probability of Classifier B\")\n",
    "plt.legend()\n",
    "plt.show()"
   ]
  },
  {
   "cell_type": "markdown",
   "metadata": {},
   "source": [
    "The standard deviation decreases with the Dataset size exponentially because we ccould easily fit an exponential decay through the received data."
   ]
  },
  {
   "cell_type": "code",
   "execution_count": 10,
   "metadata": {},
   "outputs": [
    {
     "data": {
      "image/png": "[encoded data removed]",
      "text/plain": [
       "<Figure size 432x288 with 1 Axes>"
      ]
     },
     "metadata": {
      "needs_background": "light"
     },
     "output_type": "display_data"
    }
   ],
   "source": [
    "#Plot the standard deviation for different sizes of the dataset\n",
    "\n",
    "plt.plot(M,mean_std_A[:,0,1],\".\")\n",
    "plt.plot(M,mean_std_A[:,1,1],\".\")\n",
    "plt.plot(M,mean_std_A[:,2,1],\".\")\n",
    "plt.plot(M,mean_std_B[:,0,1],\".\")\n",
    "plt.plot(M,mean_std_B[:,1,1],\".\")\n",
    "plt.plot(M,mean_std_B[:,2,1],\".\")\n",
    "plt.yscale(\"log\")\n",
    "plt.xscale(\"log\")\n",
    "plt.title(\"Standard deviation for different datasets\")\n",
    "plt.xlabel(\"Size of the dataset\")\n",
    "plt.ylabel(\"Standard deviation [%]\")\n",
    "plt.show()"
   ]
  },
  {
   "cell_type": "markdown",
   "metadata": {},
   "source": [
    "## 1.3  Baseline Classifiers\n",
    "\n",
    "We now compare the above results to two rules that entirely ignore the features:\n",
    "\n",
    "- Rule C (guessing): $Y = f_C(X) = 0,1$ with probability 1/2\n",
    "- Rule D (constant): $Y = f_D(X) = 1$ (it always predicts class 1)\n",
    "\n",
    "Both result in an error rate of 1/2. Confirm this like in the previous exercise: Plot the error and its\n",
    "standard deviation as a function of test set sizes $M \\in \\{10, 100, 1000, 10000\\}$ for both new rules."
   ]
  },
  {
   "cell_type": "code",
   "execution_count": 11,
   "metadata": {},
   "outputs": [],
   "source": [
    "#Define Classifier C\n",
    "def class_C(x):\n",
    "    y = np.random.rand(len(x))\n",
    "    y[y < 0.5] = 0\n",
    "    y[y >= 0.5] = 1\n",
    "    \n",
    "    return y\n",
    "\n",
    "#Define Classifier D\n",
    "def class_D(x):\n",
    "    return np.ones(len(x))\n",
    "\n",
    "#Calculate Error for a given data set and classifier\n",
    "def error_rate(data_set, classifier):\n",
    "    #Scan where the y doesn't coincide\n",
    "    error_array = abs(data_set[1] - classifier(data_set[0]))\n",
    "    errors = np.count_nonzero(error_array == 1)\n",
    "    return errors / len(data_set[1])\n",
    "\n",
    "#Calculate the Mean and Standard Deviation for N different data sets with length M\n",
    "def error_mean_std(N, M, classifier):\n",
    "    errors = []\n",
    "    for i in range(N):\n",
    "        errors.append(error_rate(create_data(M), classifier))\n",
    "    errors = np.array([errors])\n",
    "    return [np.mean(errors), np.std(errors)]"
   ]
  },
  {
   "cell_type": "code",
   "execution_count": 12,
   "metadata": {},
   "outputs": [
    {
     "data": {
      "image/png": "[encoded data removed]",
      "text/plain": [
       "<Figure size 432x288 with 1 Axes>"
      ]
     },
     "metadata": {
      "needs_background": "light"
     },
     "output_type": "display_data"
    }
   ],
   "source": [
    "N = 10\n",
    "M = [10,100,1000,10000]\n",
    "\n",
    "MeansC = []\n",
    "DeviationsC = []\n",
    "\n",
    "for i in M:\n",
    "    MeansC.append(error_mean_std(N, i, class_C)[0])\n",
    "    DeviationsC.append(error_mean_std(N, i, class_C)[1])\n",
    "\n",
    "plt.errorbar(M,MeansC,yerr=DeviationsC,fmt=\".\",color=\"g\",elinewidth=1, capsize=2, capthick=1, markersize=5)\n",
    "plt.plot([10,10000],[0.5,0.5],\"--\",color=\"g\")\n",
    "plt.xscale(\"log\")\n",
    "plt.ylabel(\"error probability\")\n",
    "plt.xlabel(\"Size of Dataset\")\n",
    "plt.title(\"error probability of Classifier C\")\n",
    "plt.show()"
   ]
  },
  {
   "cell_type": "code",
   "execution_count": 13,
   "metadata": {},
   "outputs": [
    {
     "data": {
      "image/png": "[encoded data removed]",
      "text/plain": [
       "<Figure size 432x288 with 1 Axes>"
      ]
     },
     "metadata": {
      "needs_background": "light"
     },
     "output_type": "display_data"
    }
   ],
   "source": [
    "MeansD = []\n",
    "DeviationsD = []\n",
    "\n",
    "for i in M:\n",
    "    MeansD.append(error_mean_std(N, i, class_D)[0])\n",
    "    DeviationsD.append(error_mean_std(N, i, class_D)[1])\n",
    "\n",
    "plt.errorbar(M,MeansD,yerr=DeviationsD,fmt=\".\",color=\"g\",elinewidth=1, capsize=2, capthick=1, markersize=5)\n",
    "plt.plot([10,10000],[0.5,0.5],\"--\",color=\"g\")\n",
    "plt.xscale(\"log\")\n",
    "plt.ylabel(\"error probability\")\n",
    "plt.xlabel(\"Size of Dataset\")\n",
    "plt.title(\"error probability of Classifier D\")\n",
    "plt.show()"
   ]
  },
  {
   "cell_type": "markdown",
   "metadata": {},
   "source": [
    "One can see that the Standard Deviation decreases with higher $N$!"
   ]
  },
  {
   "cell_type": "code",
   "execution_count": 14,
   "metadata": {},
   "outputs": [
    {
     "data": {
      "image/png": "[encoded data removed]",
      "text/plain": [
       "<Figure size 432x288 with 1 Axes>"
      ]
     },
     "metadata": {
      "needs_background": "light"
     },
     "output_type": "display_data"
    }
   ],
   "source": [
    "plt.plot(M,DeviationsC,\"-\",color=\"g\",label=\"Classifier C\")\n",
    "plt.plot(M,DeviationsD,\"-\",color=\"g\",label=\"Classifier D\")\n",
    "plt.xscale(\"log\")\n",
    "plt.ylabel(\"Standard Deviation\")\n",
    "plt.xlabel(\"Size of Dataset\")\n",
    "plt.title(\"Standard Deviation for different classifiers\")\n",
    "plt.legend()\n",
    "plt.show()"
   ]
  },
  {
   "cell_type": "markdown",
   "metadata": {},
   "source": [
    "## 1.4 Nearest Neighbor Classification\n",
    "\n",
    "Implement the nearest neighbour classifier for our toy problem. Make sure that it can handle training\n",
    "sets of arbitrary sizes.\n",
    "\n",
    "Sample a training set of size $N = 2$. Make sure it contains one instance of either class, so your\n",
    "create_data from the first exercise will not work out of the box. Determine the error rate of the\n",
    "nearest neighbour classifier on a suficiently large test set. Repeat this with 100 different training\n",
    "sets (all of size $N = 2$) and compute the average error on the same test set. Verify that this average\n",
    "error is around 35%.\n",
    "\n",
    "Repeat the experiment with training sets of size $N = 100$ and report the average error."
   ]
  },
  {
   "cell_type": "code",
   "execution_count": 15,
   "metadata": {},
   "outputs": [],
   "source": [
    "def create_data2(N):  #modified create_data \n",
    "    \n",
    "    # Create N uniformly distributed random numbers\n",
    "    U = np.random.rand(N)\n",
    "    \n",
    "    # Get the X variables with the respective distribution\n",
    "    X0 = 1 - np.sqrt(1-U)\n",
    "    X1 = np.sqrt(U)\n",
    "    \n",
    "    # Create N random numbers 0 or 1 with probability 0.5\n",
    "    if N>1:\n",
    "        Y = [0,1]   #makes sure that there is at least one instace of each class\n",
    "        Y = np.append(Y,np.random.rand(N-2))\n",
    "    else:\n",
    "        Y = np.random.rand(N) #in case N=0,1\n",
    "    Y[Y < 0.5] = 0\n",
    "    Y[Y >= 0.5] = 1\n",
    "    \n",
    "    # Pick a random X0 when Y=0\n",
    "    # Pick a random X1 when Y=1\n",
    "    X = X0\n",
    "    X[Y == 1] = X1[Y == 1]\n",
    "\n",
    "    return [X, Y]"
   ]
  },
  {
   "cell_type": "code",
   "execution_count": 16,
   "metadata": {},
   "outputs": [
    {
     "name": "stdout",
     "output_type": "stream",
     "text": [
      "0.359196\n",
      "0.335646\n"
     ]
    }
   ],
   "source": [
    "def NNclassifier(trainS,testS):\n",
    "\n",
    "    Ylabels = np.empty(np.size(testS[1]))\n",
    "\n",
    "    for i in range(np.size(testS[0])):                    #features from test set \n",
    "    \n",
    "        dist = np.square(trainS[0]-testS[0][i])         #distance function is a simplified 1D Eucldiean distance\n",
    "        min_dist_i = np.argmin(dist)                   #get index of smallest distance\n",
    "        Ylabels[i] = trainS[1][min_dist_i]             #corresponding Y label\n",
    "    \n",
    "    return [testS[0], Ylabels]               #test set features with corresponding predicted Y labels\n",
    "\n",
    "#Determining the error empirically\n",
    "testS = create_data2(10000)\n",
    "trainS = create_data2(10)\n",
    "\n",
    "NNresult = NNclassifier(trainS,testS)\n",
    "\n",
    "def NNerror(NNresult,testSY):             \n",
    "    \n",
    "    num_wrong_labels = np.sum(np.square(np.subtract(NNresult[1],testSY)))  \n",
    "    error = num_wrong_labels/np.size(NNresult[1])\n",
    "    \n",
    "    return error\n",
    "\n",
    "#Find average error\n",
    "\n",
    "errors = np.empty(100)\n",
    "\n",
    "def avg_error(it,D,N):   # iterations, D test features, N training instances\n",
    "    \n",
    "    for i in range(it):\n",
    "        testS = create_data2(D)\n",
    "        trainS = create_data2(N)\n",
    "        errors[i] = NNerror(NNclassifier(trainS,testS),testS[1])\n",
    "\n",
    "    return np.mean(errors)\n",
    "\n",
    "# 100 iterations, 10000 test fetures, 2 training instances:\n",
    "print(avg_error(100,10000,2))\n",
    "\n",
    "# 100 iterations, 10000 test fetures, 100 training instances:\n",
    "print(avg_error(100,10000,100))"
   ]
  },
  {
   "cell_type": "code",
   "execution_count": null,
   "metadata": {},
   "outputs": [],
   "source": []
  }
 ],
 "metadata": {
  "kernelspec": {
   "display_name": "Python 3",
   "language": "python",
   "name": "python3"
  },
  "language_info": {
   "codemirror_mode": {
    "name": "ipython",
    "version": 3
   },
   "file_extension": ".py",
   "mimetype": "text/x-python",
   "name": "python",
   "nbconvert_exporter": "python",
   "pygments_lexer": "ipython3",
   "version": "3.8.3"
  }
 },
 "nbformat": 4,
 "nbformat_minor": 4
}
