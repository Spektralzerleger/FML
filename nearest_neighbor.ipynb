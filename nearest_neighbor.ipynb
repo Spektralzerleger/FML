{
 "cells": [
  {
   "cell_type": "markdown",
   "metadata": {
    "id": "8YN-ynWEAS6p"
   },
   "source": [
    "# Exercise 1b"
   ]
  },
  {
   "cell_type": "markdown",
   "metadata": {
    "id": "g9L_uv-QAfV0"
   },
   "source": [
    "Group Members: Luis Pazos Clemens, Robert Freund, Eugen Dizer\n",
    "\n",
    "Deadline: 27.11.2020, 16:00."
   ]
  },
  {
   "cell_type": "code",
   "execution_count": 137,
   "metadata": {
    "id": "cyk6RWQIAi4X"
   },
   "outputs": [],
   "source": [
    "#Load standard libraries\n",
    "import numpy as np   \n",
    "import matplotlib.pyplot as plt   \n",
    "%matplotlib inline"
   ]
  },
  {
   "cell_type": "markdown",
   "metadata": {
    "id": "HxBcnYsc8ZGv"
   },
   "source": [
    "## 3 Nearest Neighbor Classification on Real Data"
   ]
  },
  {
   "cell_type": "markdown",
   "metadata": {
    "id": "f7UpTRPF_EvN"
   },
   "source": [
    "### 3.1 Exploring the Data"
   ]
  },
  {
   "cell_type": "code",
   "execution_count": 138,
   "metadata": {
    "colab": {
     "base_uri": "https://localhost:8080/"
    },
    "id": "m9BEbkkpxocL",
    "outputId": "e40f0bab-0a76-4d22-fff4-37b67fb4116d"
   },
   "outputs": [
    {
     "name": "stdout",
     "output_type": "stream",
     "text": [
      "dict_keys(['data', 'target', 'target_names', 'images', 'DESCR'])\n",
      "float64\n"
     ]
    }
   ],
   "source": [
    "from sklearn import datasets\n",
    "\n",
    "digits = datasets.load_digits()\n",
    "print ( digits.keys () )\n",
    "data = digits[\"data\"]\n",
    "images = digits[\"images\"]\n",
    "target = digits[\"target\"]\n",
    "target_names = digits[\"target_names\"]\n",
    "print ( data.dtype )"
   ]
  },
  {
   "cell_type": "code",
   "execution_count": 139,
   "metadata": {
    "colab": {
     "base_uri": "https://localhost:8080/"
    },
    "id": "cxLGoBb4xtlh",
    "outputId": "1a3a3111-4ca4-41c6-c4ee-8de7614abd8e"
   },
   "outputs": [
    {
     "name": "stdout",
     "output_type": "stream",
     "text": [
      "(1797, 64)\n",
      "(1797, 8, 8)\n"
     ]
    }
   ],
   "source": [
    "print(np.shape(data))\n",
    "print(np.shape(images))"
   ]
  },
  {
   "cell_type": "markdown",
   "metadata": {
    "id": "QaoVIxKoACri"
   },
   "source": [
    "The images are 8x8 pixels"
   ]
  },
  {
   "cell_type": "code",
   "execution_count": 140,
   "metadata": {
    "colab": {
     "base_uri": "https://localhost:8080/",
     "height": 217
    },
    "id": "6lappp4S7HRV",
    "outputId": "3066ae05-e740-4b02-9bb0-3d90bb61781d"
   },
   "outputs": [
    {
     "data": {
      "text/plain": [
       "<Figure size 432x288 with 0 Axes>"
      ]
     },
     "metadata": {
      "tags": []
     },
     "output_type": "display_data"
    },
    {
     "data": {
      "image/png": "[encoded data removed]",
      "text/plain": [
       "<Figure size 432x288 with 2 Axes>"
      ]
     },
     "metadata": {
      "needs_background": "light",
      "tags": []
     },
     "output_type": "display_data"
    }
   ],
   "source": [
    "img = images[3]\n",
    "assert 2 == len( img.shape )\n",
    "plt.figure ()\n",
    "plt.gray ()\n",
    "f, axarr = plt.subplots(1,2)\n",
    "axarr[0].imshow(img, interpolation =\"nearest\" )\n",
    "axarr[1].imshow(img, interpolation =\"bicubic\")\n",
    "plt.show ()\n"
   ]
  },
  {
   "cell_type": "code",
   "execution_count": 141,
   "metadata": {
    "colab": {
     "base_uri": "https://localhost:8080/"
    },
    "id": "CVVoNTS472PF",
    "outputId": "99634dd3-101c-4e47-ab40-0e402a20ae11"
   },
   "outputs": [
    {
     "data": {
      "text/plain": [
       "(8, 8)"
      ]
     },
     "execution_count": 141,
     "metadata": {
      "tags": []
     },
     "output_type": "execute_result"
    }
   ],
   "source": [
    "np.shape(images[3])"
   ]
  },
  {
   "cell_type": "code",
   "execution_count": 142,
   "metadata": {
    "id": "Q_p9pJBnBmME"
   },
   "outputs": [],
   "source": [
    "from sklearn import model_selection\n",
    "X_all = data\n",
    "y_all = target\n",
    "X_train , X_test , y_train , y_test =\\\n",
    "model_selection.train_test_split( digits .data , digits . target , test_size = 0.4 , random_state = 0)\n"
   ]
  },
  {
   "cell_type": "code",
   "execution_count": 143,
   "metadata": {
    "colab": {
     "base_uri": "https://localhost:8080/"
    },
    "id": "Gr34QcLuCjEM",
    "outputId": "2581a6ab-538a-462c-9f53-936a780ac78b"
   },
   "outputs": [
    {
     "data": {
      "text/plain": [
       "(1078, 64)"
      ]
     },
     "execution_count": 143,
     "metadata": {
      "tags": []
     },
     "output_type": "execute_result"
    }
   ],
   "source": [
    "np.shape(X_train)"
   ]
  },
  {
   "cell_type": "markdown",
   "metadata": {
    "id": "Z78jOqec7Iw7"
   },
   "source": [
    "### 3.2 Distance function computation using loops"
   ]
  },
  {
   "cell_type": "code",
   "execution_count": 144,
   "metadata": {
    "id": "zPPUadAiDBAB"
   },
   "outputs": [],
   "source": [
    "def dist_loop(training, test):\n",
    "    \n",
    "    dist = np.empty((np.shape(training)[0],np.shape(test)[0]))\n",
    "    \n",
    "    for i in range(np.shape(test)[0]): \n",
    "        \n",
    "        for j in range(np.shape(training)[0]):\n",
    "    \n",
    "            dist[j][i] = np.sqrt(np.sum(np.square(np.subtract(training[j],test[i]))))         #distance function is the 1D Eucldiean distance\n",
    "    \n",
    "    return dist\n"
   ]
  },
  {
   "cell_type": "code",
   "execution_count": 145,
   "metadata": {
    "colab": {
     "base_uri": "https://localhost:8080/"
    },
    "id": "7xlANZQ7OICL",
    "outputId": "71aee050-5475-483b-971d-92e3a463cf02"
   },
   "outputs": [
    {
     "name": "stdout",
     "output_type": "stream",
     "text": [
      "[[55.67764363 53.12249994 56.56854249 ... 54.91812087 50.76416059\n",
      "  46.87216658]\n",
      " [47.51841748 45.65084884 48.72371086 ... 45.475268   52.10566188\n",
      "  40.18706259]\n",
      " [45.54119015 53.72150407 45.07771068 ... 44.96665431 50.8625599\n",
      "  41.53311931]\n",
      " ...\n",
      " [46.         45.54119015 46.28174586 ... 51.32250968 44.62062303\n",
      "  48.61069841]\n",
      " [44.98888752 49.07137659 53.55371136 ... 57.91372894 27.80287755\n",
      "  40.28647416]\n",
      " [44.77722635 41.07310556 40.31128874 ... 43.78355856 52.\n",
      "  44.22668877]]\n"
     ]
    },
    {
     "data": {
      "text/plain": [
       "(1078, 719)"
      ]
     },
     "execution_count": 145,
     "metadata": {
      "tags": []
     },
     "output_type": "execute_result"
    }
   ],
   "source": [
    "#calculate distancematrix with loop function\n",
    "a = dist_loop(X_train,X_test)\n",
    "print(a)\n",
    "np.shape(a)"
   ]
  },
  {
   "cell_type": "markdown",
   "metadata": {
    "id": "zJrSKbxnDaAK"
   },
   "source": [
    "### 3.3 Distance Function computation using vectorization"
   ]
  },
  {
   "cell_type": "code",
   "execution_count": 146,
   "metadata": {
    "id": "UVreDLWxDywV"
   },
   "outputs": [],
   "source": [
    "#Vectorized Distance Function\n",
    "\n",
    "def dist_vec(training,test):\n",
    "    \"\"\"\n",
    "    Distance function for arbitrary training set size N and test Set size M.\n",
    "    \n",
    "    params\n",
    "    ------\n",
    "    test : np.array shape=(M, D)\n",
    "            test set for the classifier.\n",
    "    training : np.array shape=(N, D)\n",
    "        Training data for the classifier. \n",
    "    \n",
    "    returns\n",
    "    -------\n",
    "    dist: np.array shape=(N,M)\n",
    "        euclidean distance between [0,..,N] training point and [0,...,M] test point\n",
    "    \"\"\"\n",
    "    \n",
    "    #array with shape (M,N.D) and has N times the same D-dim testset under itself\n",
    "    test_arr = np.transpose(np.full((np.shape(training)[0],np.shape(test)[0],np.shape(test)[1]),test),(1,0,2))\n",
    "    \n",
    "    #array with shape (M,N,D) and has M times the training array under itself\n",
    "    training_arr = np.full((np.shape(test)[0],np.shape(training)[0],np.shape(training)[1]),training)\n",
    "    \n",
    "    #by subtracting from each other and taking the sum along the D-dim. axis we get an MxN matrix\n",
    "    dist = np.sqrt(np.sum(np.square(np.subtract(test_arr,training_arr)),axis=2))\n",
    "    \n",
    "    #its transposed is the given NxM matrix from above\n",
    "    return dist.T"
   ]
  },
  {
   "cell_type": "code",
   "execution_count": 147,
   "metadata": {
    "colab": {
     "base_uri": "https://localhost:8080/"
    },
    "id": "TBWCgQmHYz38",
    "outputId": "7393e7de-e866-45a6-d90f-82f2f359ec45"
   },
   "outputs": [
    {
     "name": "stdout",
     "output_type": "stream",
     "text": [
      "[[ True  True  True ...  True  True  True]\n",
      " [ True  True  True ...  True  True  True]\n",
      " [ True  True  True ...  True  True  True]\n",
      " ...\n",
      " [ True  True  True ...  True  True  True]\n",
      " [ True  True  True ...  True  True  True]\n",
      " [ True  True  True ...  True  True  True]]\n"
     ]
    }
   ],
   "source": [
    "#calculate distance matrix with vectorized function\n",
    "b = dist_vec(X_train,X_test)\n",
    "\n",
    "#compare both\n",
    "print(a==b)"
   ]
  },
  {
   "cell_type": "code",
   "execution_count": 148,
   "metadata": {
    "colab": {
     "base_uri": "https://localhost:8080/"
    },
    "id": "ds_uCXLVaaAH",
    "outputId": "fc6f1ae1-8a6c-47dd-9247-71694f5352ab"
   },
   "outputs": [
    {
     "name": "stdout",
     "output_type": "stream",
     "text": [
      "Time of vectorized function:\n",
      "1 loop, best of 3: 400 ms per loop\n",
      "Time of loop function:\n",
      "1 loop, best of 3: 6.56 s per loop\n"
     ]
    }
   ],
   "source": [
    "#compare computation time of vectorized function with loop function\n",
    "print(\"Time of vectorized function:\")\n",
    "%timeit dist_vec(X_train,X_test)\n",
    "print(\"Time of loop function:\")\n",
    "%timeit dist_loop(X_train,X_test)"
   ]
  },
  {
   "cell_type": "markdown",
   "metadata": {
    "id": "czLS3tkYi13A"
   },
   "source": [
    "Another, more cheaty way, is to use the scipy function `cdist`:"
   ]
  },
  {
   "cell_type": "code",
   "execution_count": 149,
   "metadata": {
    "colab": {
     "base_uri": "https://localhost:8080/"
    },
    "id": "rmxC4HUvbEK5",
    "outputId": "0136c626-cf41-4492-cc75-3fe1ef058ab9"
   },
   "outputs": [
    {
     "name": "stdout",
     "output_type": "stream",
     "text": [
      "10 loops, best of 3: 33.4 ms per loop\n",
      "[[ True  True  True ...  True  True  True]\n",
      " [ True  True  True ...  True  True  True]\n",
      " [ True  True  True ...  True  True  True]\n",
      " ...\n",
      " [ True  True  True ...  True  True  True]\n",
      " [ True  True  True ...  True  True  True]\n",
      " [ True  True  True ...  True  True  True]]\n"
     ]
    }
   ],
   "source": [
    "import scipy\n",
    "from scipy import spatial\n",
    "%timeit scipy.spatial.distance.cdist(X_train,X_test)\n",
    "\n",
    "# Show that they are equal\n",
    "c = scipy.spatial.distance.cdist(X_train,X_test)\n",
    "print(a==c)"
   ]
  },
  {
   "cell_type": "markdown",
   "metadata": {
    "id": "jRcgNQ3pkfMC"
   },
   "source": [
    "### 3.4 Nearest Neighbor"
   ]
  },
  {
   "cell_type": "code",
   "execution_count": 150,
   "metadata": {
    "id": "3a8skHpikknS"
   },
   "outputs": [],
   "source": [
    "# k-nearest neighbour classifier for arbitrary training set size\n",
    "def nn_classifier(k, x_test, x_train, y_train):\n",
    "    \"\"\"\n",
    "    k-nearest neighbor classifier for arbitrary training set size N.\n",
    "    \n",
    "    params\n",
    "    ------\n",
    "    x_test : np.array shape=(1, 64)\n",
    "        A single sample to classify.\n",
    "    x_train : np.array shape=(N, 64)\n",
    "        Training data for the classifier. \n",
    "    y_train: np.array shape=(10)\n",
    "        Digits from 0 to 9.\n",
    "    \n",
    "    returns\n",
    "    -------\n",
    "    number: [0, 1, ..., 9]\n",
    "        Predicted number of the x_test sample.\n",
    "        Prediction by output of the most probable\n",
    "        variant.\n",
    "    \"\"\"\n",
    "    # Calculate \"distances\" to all training samples\n",
    "    diff = scipy.spatial.distance.cdist(x_test, x_train)\n",
    "    # Find the indices of the k nearest neighbors\n",
    "    idx = np.argpartition(diff[0], k)[:k]\n",
    "    # Find to which number they correspond\n",
    "    numbers = y_train[idx]\n",
    "    # Output the most probable number\n",
    "    return np.bincount(numbers).argmax()"
   ]
  },
  {
   "cell_type": "markdown",
   "metadata": {
    "id": "TmK44W7Rrf7a"
   },
   "source": [
    "We want to distinguish the digit 3 from the digit 9. To do so, we take the union of `X_train_3` and `X_train_9` as our training set."
   ]
  },
  {
   "cell_type": "code",
   "execution_count": 151,
   "metadata": {
    "id": "BqndzaqxpZBB"
   },
   "outputs": [],
   "source": [
    "# Create data sets with only digit 3\n",
    "X_test_3 = X_test[np.argwhere(y_test == 3)]\n",
    "X_train_3 = X_train[np.argwhere(y_train == 3)]\n",
    "X_train_3.reshape((len(X_train_3), 64))\n",
    "y_train_3 = 3 * np.ones(len(X_train_3))\n",
    "\n",
    "# Create data sets with only digit 9\n",
    "X_test_9 = X_test[np.argwhere(y_test == 9)]\n",
    "X_train_9 = X_train[np.argwhere(y_train == 9)]\n",
    "X_train_9.reshape((len(X_train_9), 64))\n",
    "y_train_9 = 9 * np.ones(len(X_train_9))\n",
    "\n",
    "X_train_new = np.append(X_train_3, X_train_9).reshape((len(X_train_3)+len(X_train_9), 64))\n",
    "y_train_new = np.append(y_train_3, y_train_9).astype(int)"
   ]
  },
  {
   "cell_type": "code",
   "execution_count": 152,
   "metadata": {
    "id": "E69dY0N0re8y"
   },
   "outputs": [],
   "source": [
    "# Calculate the error rate\n",
    "\n",
    "def error_rate(k, digit, test_set, train_set, y_train):\n",
    "  error = 0\n",
    "  for i in range(len(test_set)):\n",
    "    if nn_classifier(k, test_set[i], train_set, y_train) != digit:\n",
    "      error += 1\n",
    "  return error / len(test_set)"
   ]
  },
  {
   "cell_type": "code",
   "execution_count": 153,
   "metadata": {
    "id": "Bio_4JVl2Kjh"
   },
   "outputs": [],
   "source": [
    "# Make this experiment 100 times and calculate average error and standard deviation:\n",
    "\n",
    "\n",
    "def standard_deviation(k, digit, test_set, train_set, y_train):\n",
    "  errors = np.empty(100)\n",
    "  for i in range(100):\n",
    "    errors[i] = error_rate(k, digit, test_set, train_set, y_train)\n",
    "  return [np.average(errors), np.std(errors)]"
   ]
  },
  {
   "cell_type": "code",
   "execution_count": 154,
   "metadata": {
    "colab": {
     "base_uri": "https://localhost:8080/",
     "height": 295
    },
    "id": "6jEK_H8J3IGE",
    "outputId": "586f5ca5-ddfb-4ebe-a281-b1856b6ec438"
   },
   "outputs": [
    {
     "data": {
      "image/png": "[encoded data removed]",
      "text/plain": [
       "<Figure size 432x288 with 1 Axes>"
      ]
     },
     "metadata": {
      "needs_background": "light",
      "tags": []
     },
     "output_type": "display_data"
    }
   ],
   "source": [
    "# Plot the error rates with errors\n",
    "\n",
    "k = [1, 3, 5, 9, 17, 33]\n",
    "\n",
    "errors3 = []\n",
    "std3 = []\n",
    "\n",
    "errors9 = []\n",
    "std9 = []\n",
    "\n",
    "for i in k:\n",
    "  errors3.append(standard_deviation(i, 3, X_test_3, X_train_new, y_train_new)[0])\n",
    "  errors9.append(standard_deviation(i, 9, X_test_9, X_train_new, y_train_new)[0])\n",
    "  std3.append(standard_deviation(i, 3, X_test_3, X_train_new, y_train_new)[1])\n",
    "  std9.append(standard_deviation(i, 9, X_test_9, X_train_new, y_train_new)[1])\n",
    "\n",
    "plt.title(\"Error rates of the classification of digit 3 and 9 with k-NN\")\n",
    "plt.errorbar(k, errors3, yerr=std3, fmt=\"-\", elinewidth=1, capsize=2, capthick=1, markersize=5, label=\"Digit 3\")\n",
    "plt.errorbar(k, errors9, yerr=std9, fmt=\"-\", elinewidth=1, capsize=2, capthick=1, markersize=5, label=\"Digit 9\")\n",
    "plt.xlabel(\"k\")\n",
    "plt.ylabel(\"error rate\")\n",
    "plt.legend()\n",
    "plt.show()"
   ]
  },
  {
   "cell_type": "markdown",
   "metadata": {
    "id": "G8TzE0IIk4YN"
   },
   "source": [
    "## 4. Cross-Validation"
   ]
  },
  {
   "cell_type": "code",
   "execution_count": 155,
   "metadata": {
    "id": "sXHPm0FSk8D9"
   },
   "outputs": [],
   "source": [
    "def split_folds(data, target, L):\n",
    "    \"\"\"\n",
    "    split data and target sets into L folds of approx. equal size\n",
    "    \n",
    "    params\n",
    "    ------\n",
    "    data : np.array shape=(N, D)\n",
    "            with N the size of the data set and D the number of features\n",
    "    target : np.array shape=(N, 1)\n",
    "            corresponding classified solutions of the dataset\n",
    "    L : number of folds, which should be generated\n",
    "    \n",
    "    returns\n",
    "    -------\n",
    "    X_folds = np.array shape = (L,N/L,D)\n",
    "            L equally sized data sets\n",
    "    Y_folds = np.array shape = (L,N/L,1)\n",
    "            corresponding L equally sized target sets\n",
    "    \"\"\"\n",
    "    \n",
    "    #define empty arrays and permutations of length N\n",
    "    X_folds, Y_folds = np.empty(L), np.empty(L)\n",
    "    data_split = []\n",
    "    target_split = []\n",
    "    permutations = np.array_split(np.random.permutation(np.shape(data)[0]),L)\n",
    "    \n",
    "    for i in permutations:\n",
    "        data_split.append(data[i])\n",
    "        target_split.append(target[i])\n",
    "\n",
    "    return data_split, target_split"
   ]
  },
  {
   "cell_type": "code",
   "execution_count": 156,
   "metadata": {
    "id": "UAAUYl5Ax2gb"
   },
   "outputs": [],
   "source": [
    "# Calculate the error rate\n",
    "\n",
    "def error_rate_new(k, X_train, Y_train, X_test, Y_test):\n",
    "  error = 0\n",
    "  for i in range(np.shape(X_test)[0]):\n",
    "    if nn_classifier(k, X_test[i], X_train, Y_train) != Y_test[i]:\n",
    "      error += 1\n",
    "  return error / len(test_set)"
   ]
  },
  {
   "cell_type": "code",
   "execution_count": 157,
   "metadata": {
    "id": "DWTlAHHnG8kU"
   },
   "outputs": [],
   "source": [
    "L = [2,5,10]\n",
    "\n",
    "data_3_9  = data[np.argwhere(np.logical_or(target == 3,target == 9))]\n",
    "target_3_9  = target[np.argwhere(np.logical_or(target == 3,target == 9))]\n"
   ]
  },
  {
   "cell_type": "markdown",
   "metadata": {
    "id": "1aBw-ZkCsgdK"
   },
   "source": [
    "We didn't finish the task. Cross-validation is performed in the next exercise sheet."
   ]
  },
  {
   "cell_type": "code",
   "execution_count": null,
   "metadata": {},
   "outputs": [],
   "source": []
  }
 ],
 "metadata": {
  "colab": {
   "collapsed_sections": [],
   "name": "nearest-neighbor.ipynb",
   "provenance": []
  },
  "kernelspec": {
   "display_name": "Python 3",
   "language": "python",
   "name": "python3"
  },
  "language_info": {
   "codemirror_mode": {
    "name": "ipython",
    "version": 3
   },
   "file_extension": ".py",
   "mimetype": "text/x-python",
   "name": "python",
   "nbconvert_exporter": "python",
   "pygments_lexer": "ipython3",
   "version": "3.8.3"
  }
 },
 "nbformat": 4,
 "nbformat_minor": 1
}
