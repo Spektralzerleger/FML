{
 "cells": [
  {
   "cell_type": "markdown",
   "metadata": {},
   "source": [
    "# Exercise 1a"
   ]
  },
  {
   "cell_type": "markdown",
   "metadata": {},
   "source": [
    "Group Members: Luis Pazos Clemens, Robert Freund, Eugen Dizer\n",
    "\n",
    "Deadline: 20.11.2020, 16:00."
   ]
  },
  {
   "cell_type": "code",
   "execution_count": 91,
   "metadata": {},
   "outputs": [],
   "source": [
    "#Load standard libraries\n",
    "import numpy as np   \n",
    "import matplotlib.pyplot as plt   \n",
    "%matplotlib inline"
   ]
  },
  {
   "cell_type": "markdown",
   "metadata": {},
   "source": [
    "# 1 Monte-Carlo Simulation\n",
    "\n",
    "In the lecture, we considered the following toy problem: The feature variable $X \\in [0, 1]$ is real-valued\n",
    "and 1-dimensional, and the response $Y \\in \\{0, 1\\}$ is discrete with two classes. The prior probabilities\n",
    "and likelihoods are given by\n",
    "\\begin{align*}\n",
    "p(Y = 0) = p(Y &= 1) = \\frac{1}{2} \\,, \\\\\n",
    "p(X = x \\vert Y = 0) &= 2 − 2x \\,, \\\\\n",
    "p(X = x \\vert Y = 1) &= 2x \\,.\n",
    "\\end{align*}\n",
    "\n",
    "We also derived theoretical error rates of the Bayes and nearest neighbor classifiers for this problem. Monte Carlo simulation is a powerful method to verify the correctness of theoretical results\n",
    "experimentally."
   ]
  },
  {
   "cell_type": "markdown",
   "metadata": {},
   "source": [
    "## 1.1 Data Creation and Visualization (7 points)"
   ]
  },
  {
   "cell_type": "markdown",
   "metadata": {},
   "source": [
    "Since the given model is generative, one can create data using a random number generator. Specifically, one first samples an instance label $Y$ according to the prior probabilities, and then uses the\n",
    "corresponding likelihood to sample the feature $X$. If no predefined random generator for the desired\n",
    "likelihood is available (as is the case here), uniformly distributed samples from a standard random\n",
    "number generator can be transformed to the desired distribution by means of \"inverse transform\n",
    "sampling\" (see https://en.wikipedia.org/wiki/Inverse_transform_sampling).\n",
    "\n",
    "Work out the required transformation formulas for our likelihoods and show your derivation in a\n",
    "Markdown cell. Then implement a function that returns the $X$-values and corresponding $Y$-labels for $N$ data instances. Use the module\n",
    "numpy.random to generate random numbers. Check that the data have the correct distribution\n",
    "with matplotlib (see https://matplotlib.org/gallery/statistics/hist.html for a demo)."
   ]
  },
  {
   "cell_type": "markdown",
   "metadata": {},
   "source": [
    "### Derivation:\n",
    "\n",
    "We have the given likelihoods: $p(X=x \\vert Y=0) = 2 - 2x$ and $p(X=x \\vert Y=1) = 2x$. \n",
    "\n",
    "From these we can construct the cumulative distribution functions by integration:\n",
    "\\begin{align*}\n",
    "F_x(Y = 0) &= 2x - x^2 \\,, \\\\ \n",
    "F_x(Y = 1) &= x^2 \\,.\n",
    "\\end{align*}\n",
    "\n",
    "Inverting those functions, one gets the distribution for $X$:\n",
    "\\begin{align*}\n",
    "X(Y = 0) &= F^{-1}_x(Y = 0) = 1 - \\sqrt{1-u} \\,, \\\\ \n",
    "X(Y = 1) &= F^{-1}_x(Y = 1) = \\sqrt{u} \\,,\n",
    "\\end{align*}\n",
    "where $u \\in [0,1]$ is a random variable. "
   ]
  },
  {
   "cell_type": "code",
   "execution_count": 94,
   "metadata": {},
   "outputs": [],
   "source": [
    "def create_data(N):\n",
    "    # Create N uniformly distributed random numbers\n",
    "    U = np.random.rand(N)\n",
    "    \n",
    "    # Get the X variables with the respective distribution\n",
    "    X0 = 1 - np.sqrt(1-U)\n",
    "    X1 = np.sqrt(U)\n",
    "    \n",
    "    # Create N random numbers 0 or 1 with probability 0.5\n",
    "    Y = np.random.rand(N)\n",
    "    Y[Y < 0.5] = 0\n",
    "    Y[Y >= 0.5] = 1\n",
    "    \n",
    "    # Pick a random X0 when Y=0\n",
    "    # Pick a random X1 when Y=1\n",
    "    X = X0\n",
    "    X[Y == 1] = X1[Y == 1]\n",
    "\n",
    "    return [X, Y]"
   ]
  },
  {
   "cell_type": "code",
   "execution_count": null,
   "metadata": {},
   "outputs": [],
   "source": []
  }
 ],
 "metadata": {
  "kernelspec": {
   "display_name": "Python 3",
   "language": "python",
   "name": "python3"
  },
  "language_info": {
   "codemirror_mode": {
    "name": "ipython",
    "version": 3
   },
   "file_extension": ".py",
   "mimetype": "text/x-python",
   "name": "python",
   "nbconvert_exporter": "python",
   "pygments_lexer": "ipython3",
   "version": "3.8.3"
  }
 },
 "nbformat": 4,
 "nbformat_minor": 4
}
